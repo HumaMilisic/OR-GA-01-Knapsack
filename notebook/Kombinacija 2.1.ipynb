{
 "cells": [
  {
   "cell_type": "code",
   "execution_count": 1,
   "metadata": {
    "collapsed": false
   },
   "outputs": [],
   "source": [
    "dir = pwd()\n",
    "cd(\"$dir\\\\input\")\n",
    "\n",
    "type parr\n",
    "    n::Int\n",
    "    m::Int\n",
    "    rjesenje::Int\n",
    "end"
   ]
  },
  {
   "cell_type": "code",
   "execution_count": 2,
   "metadata": {
    "collapsed": false
   },
   "outputs": [
    {
     "data": {
      "text/plain": [
       "parsiraj! (generic function with 1 method)"
      ]
     },
     "execution_count": 2,
     "metadata": {},
     "output_type": "execute_result"
    }
   ],
   "source": [
    "function openNth(br,sadrzaj)\n",
    "    filein = open(sadrzaj[br])\n",
    "    puni=\"\"\n",
    "    for line in eachline(filein)\n",
    "        puni = puni * line\n",
    "    end\n",
    "    puni = strip(puni)\n",
    "    #println(puni)\n",
    "    close(filein)\n",
    "    return puni\n",
    "end\n",
    "\n",
    "\n",
    "function parsiraj!(puni,c,A,b,par::parr)\n",
    "    brojevi_str = split(puni,r\" |\\r|\\n\",keep=false)\n",
    "    par.n = parse(Int,brojevi_str[1])\n",
    "    par.m = parse(Int,brojevi_str[2])\n",
    "    par.rjesenje = parse(Int,brojevi_str[3])\n",
    "    \n",
    "    cA = brojevi_str[4:(3+par.n)]\n",
    "    tempA = brojevi_str[4+par.n:(3+par.n+par.n*par.m)]\n",
    "    bA = brojevi_str[4+par.n+par.n*par.m:(3+par.n+par.n*par.m+par.m)]\n",
    "    \n",
    "    for i in bA\n",
    "        ii = parse(Float64,i)\n",
    "        push!(b,ii)\n",
    "    end\n",
    "    for i in cA\n",
    "        ii = parse(Float64,i)\n",
    "        push!(c,ii)\n",
    "    end\n",
    "    \n",
    "    for poc in 1:par.n:(par.m*par.n)\n",
    "        #println(poc)\n",
    "        tt = []\n",
    "        for i in 0:(par.n-1)\n",
    "            #print(tempA[poc+i]*\" \")\n",
    "            push!(tt,parse(Float64,tempA[poc+i]))\n",
    "        end\n",
    "\n",
    "        push!(A,map(Float64,tt))\n",
    "    end\n",
    "end"
   ]
  },
  {
   "cell_type": "code",
   "execution_count": 3,
   "metadata": {
    "collapsed": false
   },
   "outputs": [
    {
     "data": {
      "text/plain": [
       "UInt (generic function with 1 method)"
      ]
     },
     "execution_count": 3,
     "metadata": {},
     "output_type": "execute_result"
    }
   ],
   "source": [
    "type Individua\n",
    "    Duzina\n",
    "    Hromozom\n",
    "    Fitnes::Float64\n",
    "end\n",
    "function Individua(Duzina::Int)\n",
    "    Hromozom = BitArray(Duzina)\n",
    "    rand!(Hromozom)\n",
    "    return Individua(Duzina,Hromozom,0.0)\n",
    "end\n",
    "function Individua(Hromozom::BitArray)\n",
    "    Duzina = length(Hromozom)\n",
    "    return Individua(Duzina,Hromozom,0.0)\n",
    "end\n",
    "function Mutiraj!(a::Individua)\n",
    "    poz = rand(1:a.Duzina)\n",
    "    a.Hromozom[poz] = !a.Hromozom[poz]\n",
    "    return a\n",
    "end\n",
    "function Ukrstanje(a::Individua,b::Individua,p::Float64)\n",
    "    tacka1 = rand(1:(a.Duzina-1))\n",
    "    tacka2 = rand(1:(a.Duzina-1))\n",
    "    if(tacka2<tacka1)\n",
    "        temp = tacka2\n",
    "        tacka2 = tacka1\n",
    "        tacka1 = temp\n",
    "    end\n",
    "    #println(tacka)\n",
    "    t1 = Individua([a.Hromozom[1:tacka1];b.Hromozom[(tacka1+1):tacka2];a.Hromozom[(tacka2+1):end]])\n",
    "    t2 = Individua([b.Hromozom[1:tacka1];a.Hromozom[(tacka1+1):tacka2];b.Hromozom[(tacka2+1):end]])\n",
    "    if(p>rand())\n",
    "        return t1\n",
    "    end\n",
    "    return t2\n",
    "end\n",
    "function Ukrstanje(a::Individua,b::Individua)\n",
    "    tacka1 = rand(1:(a.Duzina-1))\n",
    "    tacka2 = rand(1:(a.Duzina-1))\n",
    "    if(tacka2<tacka1)\n",
    "        temp = tacka2\n",
    "        tacka2 = tacka1\n",
    "        tacka1 = temp\n",
    "    end\n",
    "    #println(tacka)\n",
    "    t1 = Individua([a.Hromozom[1:tacka1];b.Hromozom[(tacka1+1):tacka2];a.Hromozom[(tacka2+1):end]])\n",
    "    t2 = Individua([b.Hromozom[1:tacka1];a.Hromozom[(tacka1+1):tacka2];b.Hromozom[(tacka2+1):end]])\n",
    "\n",
    "    return [t1;t2]\n",
    "end\n",
    "\n",
    "function UkrstanjeN(a::Individua,b::Individua,p::Float64,n::Int)\n",
    "    tacke = Array(Int,0)\n",
    "    niz = 2:(a.Duzina-1)\n",
    "    #println(niz)\n",
    "    for s in 1:n\n",
    "        t = rand(niz)\n",
    "        push!(tacke,t)\n",
    "    end\n",
    "    sort!(tacke)\n",
    "\n",
    "    kraj = length(tacke)\n",
    "    h1 = [b.Hromozom[1:tacke[1]]]\n",
    "    h2 = [a.Hromozom[1:tacke[1]]]\n",
    "    #println(h1)\n",
    "    for i in 1:2:(kraj-1)\n",
    "        \n",
    "        if((i+1)>kraj||(i+2)>kraj)\n",
    "            break\n",
    "        end\n",
    "        #println(\"tacke[$i] = $(tacke[i]), tacke[$i+1] = $(tacke[i+1]), tacke[$i+2] = $(tacke[i+2])\")\n",
    "        #a.Hromozom[tacka[i]:tacka[i+1]];b.Hromozom[(tacka[i+1]+1):tacka[i+2]]\n",
    "        temp = h1\n",
    "        h1 = [temp;a.Hromozom[(tacke[i]+1):tacke[i+1]];b.Hromozom[(tacke[i+1]+1):tacke[i+2]]]\n",
    "        h2 = [temp;b.Hromozom[(tacke[i]+1):tacke[i+1]];a.Hromozom[(tacke[i+1]+1):tacke[i+2]]]\n",
    "    end\n",
    "    \n",
    "    h1 = [h1;b.Hromozom[(tacke[kraj]+1):end]]\n",
    "    h2 = [h2;a.Hromozom[(tacke[kraj]+1):end]]\n",
    "    \n",
    "    t1 = Individua(h1)\n",
    "    t2 = Individua(h2)    \n",
    "    \n",
    "    if(p>rand())\n",
    "        return t1\n",
    "    end\n",
    "    return t2\n",
    "end\n",
    "function UkrstanjeN(a::Individua,b::Individua,n::Int)\n",
    "    tacke = Array(Int,0)\n",
    "    niz = 2:(a.Duzina-1)\n",
    "    #println(niz)\n",
    "    for s in 1:n\n",
    "        t = rand(niz)\n",
    "        push!(tacke,t)\n",
    "    end\n",
    "    sort!(tacke)\n",
    "\n",
    "    kraj = length(tacke)\n",
    "    h1 = [b.Hromozom[1:tacke[1]]]\n",
    "    h2 = [a.Hromozom[1:tacke[1]]]\n",
    "    #println(h1)\n",
    "    for i in 1:2:(kraj-1)\n",
    "        \n",
    "        if((i+1)>kraj||(i+2)>kraj)\n",
    "            break\n",
    "        end\n",
    "        #println(\"tacke[$i] = $(tacke[i]), tacke[$i+1] = $(tacke[i+1]), tacke[$i+2] = $(tacke[i+2])\")\n",
    "        #a.Hromozom[tacka[i]:tacka[i+1]];b.Hromozom[(tacka[i+1]+1):tacka[i+2]]\n",
    "        temp = h1\n",
    "        h1 = [temp;a.Hromozom[(tacke[i]+1):tacke[i+1]];b.Hromozom[(tacke[i+1]+1):tacke[i+2]]]\n",
    "        h2 = [temp;b.Hromozom[(tacke[i]+1):tacke[i+1]];a.Hromozom[(tacke[i+1]+1):tacke[i+2]]]\n",
    "    end\n",
    "    \n",
    "    h1 = [h1;b.Hromozom[(tacke[kraj]+1):end]]\n",
    "    h2 = [h2;a.Hromozom[(tacke[kraj]+1):end]]\n",
    "    \n",
    "    t1 = Individua(h1)\n",
    "    t2 = Individua(h2)    \n",
    "    \n",
    "    return [t1;t2]\n",
    "end\n",
    "\n",
    "function UInt(niz)\n",
    "    rez=Array(Float64,0)\n",
    "    for a in niz\n",
    "        push!(rez,Float64(a))\n",
    "    end\n",
    "    return rez;\n",
    "end"
   ]
  },
  {
   "cell_type": "code",
   "execution_count": 4,
   "metadata": {
    "collapsed": false
   },
   "outputs": [
    {
     "data": {
      "text/plain": [
       "Evauliraj! (generic function with 1 method)"
      ]
     },
     "execution_count": 4,
     "metadata": {},
     "output_type": "execute_result"
    }
   ],
   "source": [
    "function Evauliraj!(a::Individua,A,c,b,n,m)\n",
    "    #a.Fitnes = rand()\n",
    "    tt=UInt(a.Hromozom)\n",
    "    fitnes = tt'*c\n",
    "    kazna = fitnes\n",
    "    for i in 1:m\n",
    "        sum = 0.0\n",
    "        for j in 1:n\n",
    "            sum += (A[i][j]*tt[j])\n",
    "        end\n",
    "        if sum<=b[i]\n",
    "            #continue\n",
    "        else\n",
    "            fitnes-=kazna\n",
    "        end\n",
    "    end\n",
    "    #println(fitnes)\n",
    "    a.Fitnes = fitnes[1]\n",
    "end"
   ]
  },
  {
   "cell_type": "code",
   "execution_count": 5,
   "metadata": {
    "collapsed": false
   },
   "outputs": [
    {
     "data": {
      "text/plain": [
       "Turnir (generic function with 1 method)"
      ]
     },
     "execution_count": 5,
     "metadata": {},
     "output_type": "execute_result"
    }
   ],
   "source": [
    "type Populacija\n",
    "    DuzinaHromozoma::Int\n",
    "    MaxGeneracija::Int\n",
    "    VelicinaPopulacije::Int\n",
    "    BrElite::Int\n",
    "    BrMutacija::Int\n",
    "    Iteracija::Int\n",
    "    Populacija\n",
    "end\n",
    "function Populacija(Duzina::Int64)\n",
    "    MaxGeneracija = 100*Duzina # 100 * brojvarijabli\n",
    "    VelicinaPopulacije = 51\n",
    "    BrElite = 1;\n",
    "    BrMutacija = 15;\n",
    "    Iteracija = 0;\n",
    "    populacija = [];\n",
    "    for a in 1:VelicinaPopulacije\n",
    "        push!(populacija,Individua(Duzina))\n",
    "    end\n",
    "    return Populacija(Duzina,MaxGeneracija,VelicinaPopulacije,BrElite,BrMutacija,Iteracija,populacija)\n",
    "end\n",
    "function EvalPop!(pop::Populacija,m,n,A,b,c)\n",
    "    for a in pop.Populacija\n",
    "        Evauliraj!(a,A,c,b,n,m)\n",
    "    end\n",
    "    sort!(pop.Populacija, by=x->(x.Fitnes), rev=true)\n",
    "end\n",
    "function Turnir(pop::Populacija,m::Int64,p::Float64)\n",
    "    rez = [];\n",
    "    for a in 1:m\n",
    "        temp = [];\n",
    "        t = rand(1:pop.VelicinaPopulacije)\n",
    "        push!(temp,pop.Populacija[t])\n",
    "        t = rand(1:pop.VelicinaPopulacije)\n",
    "        push!(temp,pop.Populacija[t])\n",
    "        sort!(temp,by=x->(x.Fitnes))\n",
    "        if(p<rand())\n",
    "            push!(rez,temp[1])\n",
    "        else\n",
    "            push!(rez,temp[2])\n",
    "        end\n",
    "    end\n",
    "    return rez\n",
    "end"
   ]
  },
  {
   "cell_type": "code",
   "execution_count": 6,
   "metadata": {
    "collapsed": false
   },
   "outputs": [
    {
     "data": {
      "text/plain": [
       "ProsjekFitnesa (generic function with 1 method)"
      ]
     },
     "execution_count": 6,
     "metadata": {},
     "output_type": "execute_result"
    }
   ],
   "source": [
    "function DajElite(pop::Populacija)\n",
    "    br = pop.BrElite\n",
    "    return pop.Populacija[1:br]\n",
    "end\n",
    "function Mutacija(pop::Populacija,djeca)\n",
    "    for i in 1:pop.BrMutacija\n",
    "        br = rand(1:length(djeca))\n",
    "        #println(\"$i = $br\")\n",
    "        d = djeca[br]\n",
    "        t = Mutiraj!(d)\n",
    "        djeca[br] = t;\n",
    "        #print(\".\")\n",
    "    end\n",
    "end\n",
    "function ProsjekFitnesa(pop::Populacija)\n",
    "    suma = 0;\n",
    "    for a in pop.Populacija \n",
    "        suma+=a.Fitnes \n",
    "    end\n",
    "    suma/=length(pop.Populacija)\n",
    "    return suma\n",
    "end"
   ]
  },
  {
   "cell_type": "code",
   "execution_count": 7,
   "metadata": {
    "collapsed": false
   },
   "outputs": [
    {
     "data": {
      "text/plain": [
       "DajDjecu (generic function with 1 method)"
      ]
     },
     "execution_count": 7,
     "metadata": {},
     "output_type": "execute_result"
    }
   ],
   "source": [
    "function DajDjecu(pop::Populacija,roditelji)\n",
    "    rez = []\n",
    "    brDjece = pop.VelicinaPopulacije - pop.BrElite\n",
    "    while length(rez)<=brDjece\n",
    "        r1 = roditelji[rand(1:length(roditelji))]\n",
    "        r2 = roditelji[rand(1:length(roditelji))]\n",
    "        #d = UkrstanjeN(r1,r2,11)\n",
    "        d = Ukrstanje(r1,r2)\n",
    "        #println(\"d: $d \\n\\n\")\n",
    "        push!(rez,d[1])\n",
    "        push!(rez,d[2])\n",
    "    end\n",
    "    return rez\n",
    "end"
   ]
  },
  {
   "cell_type": "code",
   "execution_count": 8,
   "metadata": {
    "collapsed": false
   },
   "outputs": [
    {
     "ename": "LoadError",
     "evalue": "LoadError: syntax: invalid character literal\nwhile loading In[8], in expression starting on line 12",
     "output_type": "error",
     "traceback": [
      "LoadError: syntax: invalid character literal\nwhile loading In[8], in expression starting on line 12",
      ""
     ]
    }
   ],
   "source": [
    "function UInt(br::Int,m::Int)\n",
    "    rez=Array(Float64,0)\n",
    "    for a in 1:m\n",
    "        t = br&1\n",
    "        #println(\"$br>>>1 = $t\")\n",
    "        push!(rez,t)\n",
    "        br = br>>>1\n",
    "    end\n",
    "    return rez;\n",
    "end\n",
    "function Evauliraj!(br,A,c,b,n,m)\n",
    "    print('eval');\n",
    "    #a.Fitnes = rand()\n",
    "    tt=UInt(br,n)\n",
    "    #print(\".\")\n",
    "    #println(\"$tt \\n$c\")\n",
    "    fitnes = tt'*c\n",
    "    kazna = fitnes\n",
    "    \n",
    "    for i in 1:m\n",
    "        sum = 0.0\n",
    "        for j in 1:n\n",
    "            sum += (A[i][j]*tt[j])\n",
    "        end\n",
    "        if sum<=b[i]\n",
    "            #continue\n",
    "        else\n",
    "            fitnes-=kazna\n",
    "        end\n",
    "    end\n",
    "    \n",
    "    return fitnes[1]\n",
    "end"
   ]
  },
  {
   "cell_type": "code",
   "execution_count": 9,
   "metadata": {
    "collapsed": false
   },
   "outputs": [
    {
     "name": "stdout",
     "output_type": "stream",
     "text": [
      "-- 1 --\n",
      "n = 15 broj objekata, dimenzije hromozoma\n",
      "m = 10 broj dimenzija\n",
      "rjesenje = 4015\n",
      "\n",
      "Max 3665.0\n"
     ]
    }
   ],
   "source": [
    "sadrzaj = readdir()\n",
    "\n",
    "max = 0;\n",
    "maxhistorija = []\n",
    "    c = Array(Float64,0); b= Array(Float64,0)\n",
    "    A = []\n",
    "n = 0\n",
    "m = 0\n",
    "rjesenje = 0\n",
    "for file in 1:100\n",
    "    println(\"-- $file --\")\n",
    "    puni = openNth(1,sadrzaj)\n",
    "    c = Array(Float64,0); b= Array(Float64,0)\n",
    "    A = []\n",
    "    par = parr(0,0,0)\n",
    "    parsiraj!(puni,c,A,b,par)\n",
    "    n = par.n; m= par.m; rjesenje = par.rjesenje\n",
    "    \n",
    " #           b = [5]\n",
    "  #      A = [2,3,4,5]\n",
    "   #     c = [3,4,5,6]\n",
    "    \n",
    "  #  n = 4\n",
    "   # m = 1\n",
    "    \n",
    "    \n",
    "    println(\"n = $(n) broj objekata, dimenzije hromozoma\\nm = $(m) broj dimenzija\\nrjesenje = $rjesenje\\n\")\n",
    "    \n",
    "    #println(\"\\nc = $c\\nb = $b\\nA = $A\\n dim= \")\n",
    "    \n",
    "    #for k in 1:32767\n",
    "   #     r = Evauliraj!(k,A,c,b,n,m)\n",
    "    #    if(r==4015)\n",
    "    #        println(\"za $k je $r\")\n",
    "    #    end\n",
    "  #  end\n",
    "    \n",
    "    \n",
    "    \n",
    "    \n",
    "    #inicijalna populacija\n",
    "    pop = Populacija(n)\n",
    "    \n",
    "    for pop.Iteracija in 1:pop.MaxGeneracija\n",
    "       #break\n",
    "        #print(\".\")\n",
    "\n",
    "\n",
    "        \n",
    "        EvalPop!(pop::Populacija,m,n,A,b,c)\n",
    "\n",
    "        prosjek = ProsjekFitnesa(pop)\n",
    "        naj = pop.Populacija[1].Fitnes\n",
    "        \n",
    "        if(max<naj)\n",
    "            max = naj\n",
    "        end\n",
    "        \n",
    "\n",
    "        \n",
    "        if(pop.Iteracija==pop.MaxGeneracija)\n",
    "            println(\"Prosjek fitnesa $prosjek, najbolji fitnes $naj\\n\\n\")\n",
    "        end\n",
    "                      \n",
    "        if(naj==rjesenje)\n",
    "            println(\"Prosjek fitnesa $prosjek, najbolji fitnes $naj, iteracija $(pop.Iteracija)\\n\\n\")\n",
    "            break;\n",
    "        end\n",
    "\n",
    "        #println(\"- populacija $pop\\n\")\n",
    "\n",
    "        elite = DajElite(pop)\n",
    "\n",
    "        #println(\"- elite $elite\\n\")\n",
    "\n",
    "        roditelji = Turnir(pop,Int((pop.VelicinaPopulacije-pop.BrElite)/2),0.9)\n",
    "\n",
    "        #println(\"- roditelji $roditelji\\n\")\n",
    "\n",
    "        djeca = DajDjecu(pop,roditelji)\n",
    "\n",
    "        #println(\"- djeca $djeca\\n\")\n",
    "\n",
    "        Mutacija(pop,djeca)\n",
    "\n",
    "        #println(\"- djeca $djeca\\n\")\n",
    "\n",
    "        #novagen = \n",
    "        append!(djeca,elite)\n",
    "\n",
    "        #println(\"- nova gen $djeca\\n\")\n",
    "        \n",
    "        pop.Populacija = djeca\n",
    "\n",
    "    \n",
    "        #println(pop.Iteracija)\n",
    "        #break\n",
    "    end\n",
    "    \n",
    "    \n",
    "    \n",
    "    break\n",
    "end\n",
    "\n",
    "println(\"Max $max\")\n",
    "\n"
   ]
  },
  {
   "cell_type": "code",
   "execution_count": null,
   "metadata": {
    "collapsed": false
   },
   "outputs": [],
   "source": [
    "\n",
    "\n",
    "\n",
    "\n"
   ]
  }
 ],
 "metadata": {
  "kernelspec": {
   "display_name": "Julia 0.4.6",
   "language": "julia",
   "name": "julia-0.4"
  },
  "language_info": {
   "file_extension": ".jl",
   "mimetype": "application/julia",
   "name": "julia",
   "version": "0.4.6"
  }
 },
 "nbformat": 4,
 "nbformat_minor": 0
}
