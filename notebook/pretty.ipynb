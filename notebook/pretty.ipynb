{
 "cells": [
  {
   "cell_type": "code",
   "execution_count": 1,
   "metadata": {
    "collapsed": false,
    "scrolled": true
   },
   "outputs": [
    {
     "name": "stdout",
     "output_type": "stream",
     "text": [
      "4\n",
      "Individua(10,Bool[true,true,false,true,false,true,false,true,true,true],0.0)\n",
      "Individua(10,Bool[false,false,false,true,true,false,true,false,true,false],0.0)\n",
      "Individua(10,Bool[false,false,false,true,false,true,false,true,true,true],0.0)\n",
      "Individua(10,Bool[false,false,false,true,false,true,false,true,false,true],0.0)\n"
     ]
    }
   ],
   "source": [
    "type Individua\n",
    "    Duzina\n",
    "    Hromozom\n",
    "    Fitnes::Float64\n",
    "end\n",
    "function Individua(Duzina::Int)\n",
    "    Hromozom = BitArray(Duzina)\n",
    "    rand!(Hromozom)\n",
    "    return Individua(Duzina,Hromozom,0.0)\n",
    "end\n",
    "function Individua(Hromozom::BitArray)\n",
    "    Duzina = length(Hromozom)\n",
    "    return Individua(Duzina,Hromozom,0.0)\n",
    "end\n",
    "function Mutiraj!(a::Individua)\n",
    "    poz = rand(1:a.Duzina)\n",
    "    a.Hromozom[poz] = !a.Hromozom[poz]\n",
    "    return a\n",
    "end\n",
    "function Ukrstanje(a::Individua,b::Individua,p::Float64)\n",
    "    tacka = rand(1:(a.Duzina-1))\n",
    "    println(tacka)\n",
    "    t1 = Individua([a.Hromozom[1:tacka];b.Hromozom[(tacka+1):end]])\n",
    "    t2 = Individua([b.Hromozom[1:tacka];a.Hromozom[(tacka+1):end]])\n",
    "    if(p>rand())\n",
    "        return t1\n",
    "    end\n",
    "    return t2\n",
    "end\n",
    "function UInt(niz)\n",
    "    rez=Array(Float64,0)\n",
    "    for a in niz\n",
    "        push!(rez,Float64(a))\n",
    "    end\n",
    "    return rez;\n",
    "end\n",
    "function Evauliraj!(a::Individua,A,c,b,n,m)\n",
    "    #a.Fitnes = rand()\n",
    "    tt=UInt(a.Hromozom)\n",
    "    fitnes = tt'*c\n",
    "    kazna = fitnes\n",
    "    for i in 1:m\n",
    "        sum =0.0;\n",
    "        for j in 1:n\n",
    "            sum+=(A[j][i]*tt[j])\n",
    "        end\n",
    "        if sum>b[i]\n",
    "            print(!)\n",
    "            fitnes-=kazna\n",
    "        end\n",
    "        #return fitnes\n",
    "    end\n",
    "    a.Fitnes = fitnes\n",
    "end\n",
    "a = Individua(10)\n",
    "b = Individua(10)\n",
    "dijete = Ukrstanje(a,b,0.5)\n",
    "println(a)\n",
    "println(b)\n",
    "println(dijete)\n",
    "Mutiraj!(dijete)\n",
    "println(dijete)"
   ]
  },
  {
   "cell_type": "code",
   "execution_count": 2,
   "metadata": {
    "collapsed": false
   },
   "outputs": [
    {
     "data": {
      "text/plain": [
       "Populacija"
      ]
     },
     "execution_count": 2,
     "metadata": {},
     "output_type": "execute_result"
    }
   ],
   "source": [
    "type Populacija\n",
    "    DuzinaHromozoma::Int\n",
    "    MaxGeneracija::Int\n",
    "    VelicinaPopulacije::Int\n",
    "    BrElite::Int\n",
    "    BrMutacija::Int\n",
    "    Iteracija::Int\n",
    "    Populacija\n",
    "end\n",
    "function Populacija(Duzina::Int64)\n",
    "    MaxGeneracija = 100*Duzina # 100 * brojvarijabli\n",
    "    VelicinaPopulacije = 20\n",
    "    BrElite = 0;\n",
    "    BrMutacija = 0;\n",
    "    Iteracija = 0;\n",
    "    populacija = [];\n",
    "    for a in 1:VelicinaPopulacije\n",
    "        push!(populacija,Individua(Duzina))\n",
    "    end\n",
    "    return Populacija(Duzina,MaxGeneracija,VelicinaPopulacije,BrElite,BrMutacija,Iteracija,populacija)\n",
    "end\n",
    "function Populacija(Duzina::Int64,BrElite::Int64,BrMutacija::Int64, Max)\n",
    "    MaxGeneracija = 100*Duzina # 100 * brojvarijabli\n",
    "    VelicinaPopulacije = 20\n",
    "    Iteracija = 0;\n",
    "    populacija = [];\n",
    "    for a in 1:VelicinaPopulacije\n",
    "        push!(populacija,Individua(Duzina))\n",
    "    end\n",
    "    return Populacija(Duzina,MaxGeneracija,VelicinaPopulacije,BrElite,BrMutacija,Iteracija,populacija)\n",
    "end"
   ]
  },
  {
   "cell_type": "code",
   "execution_count": 3,
   "metadata": {
    "collapsed": false
   },
   "outputs": [
    {
     "data": {
      "text/plain": [
       "10-element Array{Any,1}:\n",
       " Individua(10,Bool[false,true,true,false,true,false,false,false,true,false],0.7870744113037407) \n",
       " Individua(10,Bool[false,true,true,false,true,true,false,true,false,false],0.285492748110046)   \n",
       " Individua(10,Bool[true,false,true,false,false,true,true,true,true,true],0.2662146529039504)    \n",
       " Individua(10,Bool[false,true,true,true,true,false,true,false,false,false],0.5988222127191174)  \n",
       " Individua(10,Bool[false,true,true,false,true,false,false,false,true,false],0.7870744113037407) \n",
       " Individua(10,Bool[false,false,false,false,true,true,false,false,true,true],0.8776490432138175) \n",
       " Individua(10,Bool[false,true,true,false,true,true,false,true,false,false],0.285492748110046)   \n",
       " Individua(10,Bool[false,false,false,true,true,false,false,false,false,true],0.5151678311354542)\n",
       " Individua(10,Bool[false,true,false,false,true,true,true,false,true,true],0.5893679412514605)   \n",
       " Individua(10,Bool[false,true,true,true,true,true,false,false,true,true],0.2901003376907527)    "
      ]
     },
     "execution_count": 3,
     "metadata": {},
     "output_type": "execute_result"
    }
   ],
   "source": [
    "function EvalPop!(pop::Populacija)\n",
    "    for a in pop.Populacija\n",
    "        Evauliraj!(a)\n",
    "    end\n",
    "    sort!(pop.Populacija, by=x->(x.Fitnes), rev=true)\n",
    "end\n",
    "function Turnir(pop::Populacija,m::Int64,p::Float64)\n",
    "    rez = [];\n",
    "    for a in 1:m\n",
    "        temp = [];\n",
    "        t = rand(1:pop.VelicinaPopulacije)\n",
    "        push!(temp,pop.Populacija[t])\n",
    "        t = rand(1:pop.VelicinaPopulacije)\n",
    "        push!(temp,pop.Populacija[t])\n",
    "        sort!(temp,by=x->(x.Fitnes))\n",
    "        if(p<rand())\n",
    "            push!(rez,temp[1])\n",
    "        else\n",
    "            push!(rez,temp[2])\n",
    "        end\n",
    "    end\n",
    "    return rez\n",
    "end\n",
    "function Mutiraj(pop::Populacija,roditelji)\n",
    "    br = pop.BrMutacija\n",
    "    rez = []\n",
    "    for a in 1:br\n",
    "        duz = length(roditelji)\n",
    "        ro = rand(1:duz)\n",
    "        \n",
    "    end\n",
    "    return rez\n",
    "end\n",
    "c = Populacija(10)\n",
    "EvalPop!(c)\n",
    "cr = Turnir(c,10,0.8)"
   ]
  },
  {
   "cell_type": "code",
   "execution_count": 4,
   "metadata": {
    "collapsed": false
   },
   "outputs": [
    {
     "data": {
      "text/plain": [
       "DajElite (generic function with 1 method)"
      ]
     },
     "execution_count": 4,
     "metadata": {},
     "output_type": "execute_result"
    }
   ],
   "source": [
    "function DajElite(pop::Populacija)\n",
    "    br = pop.BrElite\n",
    "    return pop.Populacija[1:br]\n",
    "end\n"
   ]
  },
  {
   "cell_type": "code",
   "execution_count": 5,
   "metadata": {
    "collapsed": false
   },
   "outputs": [
    {
     "name": "stdout",
     "output_type": "stream",
     "text": [
      "Populacija(10,1000,20,0,0,0,Any[Individua(10,Bool[true,false,true,false,true,false,true,true,true,true],0.9451150961625574),Individua(10,Bool[false,true,true,false,true,true,true,true,false,true],0.9048280622769431),Individua(10,Bool[true,true,true,false,true,false,true,false,false,false],0.8747542369596699),Individua(10,Bool[false,false,false,false,false,false,true,false,true,true],0.8526698148174128),Individua(10,Bool[true,true,true,false,true,true,false,true,true,true],0.8444301896032824),Individua(10,Bool[true,false,true,false,true,false,false,false,true,true],0.8401038900452202),Individua(10,Bool[true,true,true,false,false,true,false,true,false,false],0.7204500926475081),Individua(10,Bool[true,false,true,true,true,false,true,false,true,true],0.6688582666802743),Individua(10,Bool[true,true,false,false,true,false,true,true,false,true],0.6643082622215075),Individua(10,Bool[false,true,true,false,true,true,false,false,false,true],0.4659898679641261),Individua(10,Bool[false,true,false,false,false,true,true,false,true,false],0.4606283682191412),Individua(10,Bool[true,true,false,false,true,true,false,true,false,false],0.4572186257685322),Individua(10,Bool[false,true,true,false,false,false,true,true,false,false],0.3857314048318454),Individua(10,Bool[true,false,false,false,true,false,true,false,false,true],0.3609868993099492),Individua(10,Bool[true,false,false,false,true,true,false,true,true,true],0.24332282200714528),Individua(10,Bool[true,true,true,false,true,true,true,true,false,true],0.15869946612885166),Individua(10,Bool[true,true,true,true,true,true,false,false,true,false],0.1321945124795787),Individua(10,Bool[false,true,false,true,false,true,true,false,false,true],0.1130304978794252),Individua(10,Bool[true,true,false,true,false,false,false,true,false,true],0.08064301937707397),Individua(10,Bool[true,false,true,true,true,false,false,false,true,true],0.02369378874361905)])\n",
      "Any[Individua(10,Bool[true,true,false,false,true,false,true,true,false,true],0.6643082622215075),Individua(10,Bool[true,true,false,false,true,true,false,true,false,false],0.4572186257685322),Individua(10,Bool[false,true,true,false,true,true,true,true,false,true],0.9048280622769431),Individua(10,Bool[true,true,true,false,true,false,true,false,false,false],0.8747542369596699),Individua(10,Bool[true,false,true,false,true,false,false,false,true,true],0.8401038900452202),Individua(10,Bool[false,true,false,false,false,true,true,false,true,false],0.4606283682191412),Individua(10,Bool[true,false,true,true,true,false,true,false,true,true],0.6688582666802743),Individua(10,Bool[true,false,false,false,true,false,true,false,false,true],0.3609868993099492),Individua(10,Bool[true,false,false,false,true,true,false,true,true,true],0.24332282200714528),Individua(10,Bool[true,true,true,false,true,false,true,false,false,false],0.8747542369596699)]\n",
      "Any[]\n"
     ]
    }
   ],
   "source": [
    "#1 korak generisanje prve generacije\n",
    "test1 = Populacija(10)\n",
    "#eval svih fitnesa\n",
    "EvalPop!(test1)\n",
    "roditelji = Turnir(test1,10,0.8)\n",
    "elita = DajElite(test1)\n",
    "println(test1)\n",
    "println(roditelji)\n",
    "println(elita)"
   ]
  },
  {
   "cell_type": "code",
   "execution_count": null,
   "metadata": {
    "collapsed": true
   },
   "outputs": [],
   "source": []
  }
 ],
 "metadata": {
  "kernelspec": {
   "display_name": "Julia 0.4.6",
   "language": "julia",
   "name": "julia-0.4"
  },
  "language_info": {
   "file_extension": ".jl",
   "mimetype": "application/julia",
   "name": "julia",
   "version": "0.4.6"
  }
 },
 "nbformat": 4,
 "nbformat_minor": 0
}
