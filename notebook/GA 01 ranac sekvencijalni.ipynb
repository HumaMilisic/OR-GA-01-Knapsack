{
 "cells": [
  {
   "cell_type": "markdown",
   "metadata": {},
   "source": [
    "Otvaranje i parsiranje testnog file-a"
   ]
  },
  {
   "cell_type": "code",
   "execution_count": null,
   "metadata": {
    "collapsed": true
   },
   "outputs": [],
   "source": [
    "dir = pwd()\n",
    "cd(\"$dir\\\\input\") #testni file se nalazi u input folderu\n",
    "\n",
    "type parr\n",
    "    n::Int\n",
    "    m::Int\n",
    "    rjesenje::Int\n",
    "end\n",
    "\n",
    "function openNth(br,sadrzaj)\n",
    "    filein = open(sadrzaj[br])\n",
    "    puni=\"\"\n",
    "    for line in eachline(filein)\n",
    "        puni = puni * line\n",
    "    end\n",
    "    puni = strip(puni)\n",
    "    #println(puni)\n",
    "    close(filein)\n",
    "    return puni\n",
    "end\n",
    "\n",
    "\n",
    "function parsiraj!(puni,c,A,b,par::parr)\n",
    "    brojevi_str = split(puni,r\" |\\r|\\n\",keep=false)\n",
    "    par.n = parse(Int,brojevi_str[1])\n",
    "    par.m = parse(Int,brojevi_str[2])\n",
    "    par.rjesenje = parse(Int,brojevi_str[3])\n",
    "    \n",
    "    cA = brojevi_str[4:(3+par.n)]\n",
    "    tempA = brojevi_str[4+par.n:(3+par.n+par.n*par.m)]\n",
    "    bA = brojevi_str[4+par.n+par.n*par.m:(3+par.n+par.n*par.m+par.m)]\n",
    "    \n",
    "    for i in bA\n",
    "        ii = parse(Float64,i)\n",
    "        push!(b,ii)\n",
    "    end\n",
    "    for i in cA\n",
    "        ii = parse(Float64,i)\n",
    "        push!(c,ii)\n",
    "    end\n",
    "    \n",
    "    for poc in 1:par.n:(par.m*par.n)\n",
    "        #println(poc)\n",
    "        tt = []\n",
    "        for i in 0:(par.n-1)\n",
    "            #print(tempA[poc+i]*\" \")\n",
    "            push!(tt,parse(Float64,tempA[poc+i]))\n",
    "        end\n",
    "\n",
    "        push!(A,map(Float64,tt))\n",
    "    end\n",
    "end"
   ]
  },
  {
   "cell_type": "markdown",
   "metadata": {},
   "source": [
    "Potrebne osnove za GA"
   ]
  },
  {
   "cell_type": "code",
   "execution_count": null,
   "metadata": {
    "collapsed": true
   },
   "outputs": [],
   "source": []
  }
 ],
 "metadata": {
  "kernelspec": {
   "display_name": "Julia 0.4.6",
   "language": "julia",
   "name": "julia-0.4"
  },
  "language_info": {
   "file_extension": ".jl",
   "mimetype": "application/julia",
   "name": "julia",
   "version": "0.4.6"
  }
 },
 "nbformat": 4,
 "nbformat_minor": 0
}
