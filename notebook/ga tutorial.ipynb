{
 "cells": [
  {
   "cell_type": "code",
   "execution_count": 1,
   "metadata": {
    "collapsed": true
   },
   "outputs": [],
   "source": [
    "type Individua\n",
    "    DuzinaHromozoma::Int64\n",
    "    Hromozom\n",
    "    Fitnes::Float64\n",
    "end"
   ]
  },
  {
   "cell_type": "code",
   "execution_count": 2,
   "metadata": {
    "collapsed": false
   },
   "outputs": [
    {
     "data": {
      "text/plain": [
       "Evaluiraj! (generic function with 1 method)"
      ]
     },
     "execution_count": 2,
     "metadata": {},
     "output_type": "execute_result"
    }
   ],
   "source": [
    "function IndividuaKonstruktor(Duzina::Int)\n",
    "    Hromozom = BitArray(Duzina)\n",
    "    rand!(Hromozom)\n",
    "    return Individua(Duzina,Hromozom,0.0)\n",
    "end\n",
    "\n",
    "function IndividuaKonstruktor(Duzina::Int,niz)\n",
    "    Hromozom = niz\n",
    "    return Individua(Duzina,Hromozom,0.0)\n",
    "end\n",
    "\n",
    "function Evaluiraj!(a::Individua)\n",
    "    a.Fitnes =rand()\n",
    "end"
   ]
  },
  {
   "cell_type": "code",
   "execution_count": 3,
   "metadata": {
    "collapsed": false
   },
   "outputs": [],
   "source": [
    "type Populacija\n",
    "    VelicinaPopulacije::Int64\n",
    "    VjerovatnocaKrizanja::Float64\n",
    "    VjerovatnocaMutacije::Float64\n",
    "    MaxGeneracija::Int64\n",
    "    VelicinaElite::Int64 # int izmedju 0 i 2\n",
    "    Populacija\n",
    "end"
   ]
  },
  {
   "cell_type": "code",
   "execution_count": 4,
   "metadata": {
    "collapsed": false
   },
   "outputs": [
    {
     "data": {
      "text/plain": [
       "PopulacijaKonstruktor (generic function with 1 method)"
      ]
     },
     "execution_count": 4,
     "metadata": {},
     "output_type": "execute_result"
    }
   ],
   "source": [
    "function PopulacijaKontruktor(VelicinaPopulacije::Int64,VjerovatnocaKrizanja::Float64,\n",
    "    VjerovatnocaMutacije::Float64,MaxGeneracija::Int64,VelicinaElite::Int64)\n",
    "    \n",
    "    VelicinaPopulacije = VelicinaPopulacije>0?VelicinaPopulacije:throw(DomainError())\n",
    "    VjerovatnocaKrizanja = 0<=VjerovatnocaKrizanja<=1?VjerovatnocaKrizanja:throw(DomainError())\n",
    "    VjerovatnocaMutacije = 0<=VjerovatnocaMutacije<=1?VjerovatnocaMutacije:throw(DomainError())\n",
    "    VelicinaElite = 0<=VelicinaElite<=2?VelicinaElite:throw(DomainError())\n",
    "    \n",
    "    rez = Populacija(VelicinaPopulacije,VjerovatnocaKrizanja,VjerovatnocaMutacije,MaxGeneracija,VelicinaElite,[])\n",
    "    return rez\n",
    "end\n",
    "\n",
    "function PopulacijaKonstruktor(VelicinaPopulacije::Int, MaxGeneracija::Int, VelicinaElite::Int)\n",
    "    VelicinaElite = 0<=VelicinaElite<=2?VelicinaElite:throw(DomainError())\n",
    "    VelicinaPopulacije = VelicinaPopulacije>0?VelicinaPopulacije:throw(DomainError())\n",
    "    VjerovatnocaKrizanja = rand()\n",
    "    VjerovatnocaMutacije = rand()\n",
    "    pop = []\n",
    "    for i in 1:VelicinaPopulacije\n",
    "        push!(pop,IndividuaKonstruktor(10))\n",
    "    end\n",
    "    rez = Populacija(VelicinaPopulacije,VjerovatnocaKrizanja,VjerovatnocaMutacije,MaxGeneracija,VelicinaElite,pop)\n",
    "    return rez\n",
    "end"
   ]
  },
  {
   "cell_type": "code",
   "execution_count": 5,
   "metadata": {
    "collapsed": false
   },
   "outputs": [
    {
     "data": {
      "text/plain": [
       "Populacija(10,0.7995880916154066,0.24504914425459035,6,2,Any[Individua(10,Bool[true,true,false,false,true,false,true,true,false,false],0.0),Individua(10,Bool[true,true,false,true,true,true,false,true,true,false],0.0),Individua(10,Bool[false,true,false,true,true,false,false,true,false,true],0.0),Individua(10,Bool[false,true,false,false,false,false,false,true,true,false],0.0),Individua(10,Bool[true,true,false,true,false,false,false,true,true,false],0.0),Individua(10,Bool[false,true,true,false,true,true,true,true,false,false],0.0),Individua(10,Bool[true,false,false,false,false,false,true,true,true,false],0.0),Individua(10,Bool[false,false,false,true,false,false,false,true,false,false],0.0),Individua(10,Bool[true,true,true,true,true,true,false,true,false,false],0.0),Individua(10,Bool[false,false,false,true,false,false,false,true,false,true],0.0)])"
      ]
     },
     "execution_count": 5,
     "metadata": {},
     "output_type": "execute_result"
    }
   ],
   "source": [
    "c = PopulacijaKonstruktor(10,6,2)"
   ]
  },
  {
   "cell_type": "code",
   "execution_count": 6,
   "metadata": {
    "collapsed": false
   },
   "outputs": [
    {
     "data": {
      "text/plain": [
       "EvalPop (generic function with 1 method)"
      ]
     },
     "execution_count": 6,
     "metadata": {},
     "output_type": "execute_result"
    }
   ],
   "source": [
    "function EvalPop(pop::Populacija)\n",
    "    for a in pop.Populacija\n",
    "        Evaluiraj!(a)\n",
    "    end\n",
    "    sort!(pop.Populacija, by=x->(x.Fitnes), rev=true)\n",
    "end"
   ]
  },
  {
   "cell_type": "code",
   "execution_count": 7,
   "metadata": {
    "collapsed": false
   },
   "outputs": [
    {
     "data": {
      "text/plain": [
       "10-element Array{Any,1}:\n",
       " Individua(10,Bool[true,true,false,true,false,false,false,true,true,false],0.0)  \n",
       " Individua(10,Bool[true,true,false,true,false,false,false,true,true,false],0.0)  \n",
       " Individua(10,Bool[true,true,false,false,true,false,true,true,false,false],0.0)  \n",
       " Individua(10,Bool[true,false,false,false,false,false,true,true,true,false],0.0) \n",
       " Individua(10,Bool[false,true,true,false,true,true,true,true,false,false],0.0)   \n",
       " Individua(10,Bool[true,false,false,false,false,false,true,true,true,false],0.0) \n",
       " Individua(10,Bool[false,true,false,false,false,false,false,true,true,false],0.0)\n",
       " Individua(10,Bool[false,true,false,false,false,false,false,true,true,false],0.0)\n",
       " Individua(10,Bool[false,true,true,false,true,true,true,true,false,false],0.0)   \n",
       " Individua(10,Bool[true,false,false,false,false,false,true,true,true,false],0.0) "
      ]
     },
     "execution_count": 7,
     "metadata": {},
     "output_type": "execute_result"
    }
   ],
   "source": [
    "function turnir(pop::Populacija,m::Int64,p::Float64)\n",
    "    rez=[]\n",
    "    for a in 1:m\n",
    "        temp = []\n",
    "        prvi = rand(1:pop.VelicinaPopulacije)\n",
    "        push!(temp,pop.Populacija[prvi])\n",
    "        drugi = rand(1:pop.VelicinaPopulacije)\n",
    "        push!(temp,pop.Populacija[drugi])\n",
    "        sort!(temp, by=x->(x.Fitnes))\n",
    "        #p vjerovatnoca da se uzme onaj sa vecim fitnesom\n",
    "        if(p<rand())\n",
    "            push!(rez,temp[1])\n",
    "        else\n",
    "            push!(rez,temp[2])\n",
    "        end\n",
    "    end\n",
    "    return rez;\n",
    "end\n",
    "turnir(c,10,0.9)"
   ]
  },
  {
   "cell_type": "code",
   "execution_count": 8,
   "metadata": {
    "collapsed": false
   },
   "outputs": [
    {
     "data": {
      "text/plain": [
       "(1,3)"
      ]
     },
     "execution_count": 8,
     "metadata": {},
     "output_type": "execute_result"
    }
   ],
   "source": [
    "rodi = (1,3)"
   ]
  },
  {
   "cell_type": "code",
   "execution_count": 9,
   "metadata": {
    "collapsed": false
   },
   "outputs": [
    {
     "data": {
      "text/plain": [
       "'e'"
      ]
     },
     "execution_count": 9,
     "metadata": {},
     "output_type": "execute_result"
    }
   ],
   "source": [
    "a = ['e','t','r']\n",
    "a[1]"
   ]
  },
  {
   "cell_type": "code",
   "execution_count": 10,
   "metadata": {
    "collapsed": false
   },
   "outputs": [
    {
     "data": {
      "text/plain": [
       "Individua(10,Bool[true,true,true,false,true,true,false,true,true,true],0.0)"
      ]
     },
     "execution_count": 10,
     "metadata": {},
     "output_type": "execute_result"
    }
   ],
   "source": [
    "t1 = IndividuaKonstruktor(10)"
   ]
  },
  {
   "cell_type": "code",
   "execution_count": 11,
   "metadata": {
    "collapsed": false
   },
   "outputs": [
    {
     "data": {
      "text/plain": [
       "Individua(10,Bool[true,true,false,false,true,true,false,false,false,true],0.0)"
      ]
     },
     "execution_count": 11,
     "metadata": {},
     "output_type": "execute_result"
    }
   ],
   "source": [
    "t2 = IndividuaKonstruktor(10)"
   ]
  },
  {
   "cell_type": "code",
   "execution_count": 12,
   "metadata": {
    "collapsed": false
   },
   "outputs": [
    {
     "data": {
      "text/plain": [
       "2-element Array{Any,1}:\n",
       " Individua(10,Bool[true,true,true,false,true,true,false,true,true,true],0.0)   \n",
       " Individua(10,Bool[true,true,false,false,true,true,false,false,false,true],0.0)"
      ]
     },
     "execution_count": 12,
     "metadata": {},
     "output_type": "execute_result"
    }
   ],
   "source": [
    "function ukrstanje(I1,I2)\n",
    "    \n",
    "    tacka = rand(1:(I1.DuzinaHromozoma-1))\n",
    "    t1 = IndividuaKonstruktor(10,[I1.Hromozom[1:tacka]; I2.Hromozom[(tacka+1):end] ])\n",
    "    t2 = IndividuaKonstruktor(10,[I2.Hromozom[1:tacka]; I1.Hromozom[(tacka+1):end] ])\n",
    "    rez = []\n",
    "    push!(rez,t1)\n",
    "    push!(rez,t2)\n",
    "    return rez;\n",
    "end\n",
    "ukrstanje(t1,t2)"
   ]
  },
  {
   "cell_type": "code",
   "execution_count": 13,
   "metadata": {
    "collapsed": false
   },
   "outputs": [
    {
     "name": "stdout",
     "output_type": "stream",
     "text": [
      "Individua(10,Bool[true,true,true,false,true,true,false,true,true,true],0.0)\n"
     ]
    },
    {
     "data": {
      "text/plain": [
       "Individua(10,Bool[true,true,false,false,true,true,false,true,true,true],0.0)"
      ]
     },
     "execution_count": 13,
     "metadata": {},
     "output_type": "execute_result"
    }
   ],
   "source": [
    "function mutacija(I1::Individua)\n",
    "    poz = rand(1:I1.DuzinaHromozoma)\n",
    "    I1.Hromozom[poz] = !I1.Hromozom[poz];\n",
    "    return I1\n",
    "end\n",
    "println(t1)\n",
    "mutacija(t1)"
   ]
  },
  {
   "cell_type": "code",
   "execution_count": 14,
   "metadata": {
    "collapsed": false
   },
   "outputs": [
    {
     "data": {
      "text/plain": [
       "1-element Array{Any,1}:\n",
       " Individua(10,Bool[true,false,false,false,false,false,true,true,true,false],0.6602398516614434)"
      ]
     },
     "execution_count": 14,
     "metadata": {},
     "output_type": "execute_result"
    }
   ],
   "source": [
    "#\n",
    "#wl = sort(wl, by=x->(-length(x), lowercase(x)))\n",
    "EvalPop(c)\n",
    "#sort!(c.Populacija, by=x->(x.Fitnes), rev=true)\n",
    "c.Populacija[1:1]"
   ]
  },
  {
   "cell_type": "code",
   "execution_count": 17,
   "metadata": {
    "collapsed": false
   },
   "outputs": [
    {
     "name": "stdout",
     "output_type": "stream",
     "text": [
      "Populacija(10,0.7995880916154066,0.24504914425459035,6,2,Any[Individua(10,Bool[true,false,false,false,false,false,true,true,false,false],0.9579231121176701),Individua(10,Bool[true,true,true,false,true,true,true,true,false,false],0.8270692422873147),Individua(10,Bool[true,false,false,false,false,false,true,true,true,false],0.7914560223377953),Individua(10,Bool[true,false,false,false,false,false,true,true,true,false],0.7435098488027754),Individua(10,Bool[false,true,true,true,true,true,false,true,false,false],0.38153326511778296),Individua(10,Bool[true,false,false,false,false,false,true,true,true,false],0.3278734708762707),Individua(10,Bool[true,false,false,false,false,false,true,true,true,false],0.2996082046364543),Individua(10,Bool[false,true,false,false,false,false,true,true,true,false],0.1845847846081261),Individua(10,Bool[true,false,false,false,true,true,true,true,false,false],0.04755601746133187)])\n"
     ]
    },
    {
     "ename": "LoadError",
     "evalue": "LoadError: BoundsError: attempt to access 9-element Array{Any,1}:\n Individua(10,Bool[true,false,false,false,false,false,true,true,false,false],0.9579231121176701)\n Individua(10,Bool[true,true,true,false,true,true,true,true,false,false],0.8270692422873147)    \n Individua(10,Bool[true,false,false,false,false,false,true,true,true,false],0.7914560223377953) \n Individua(10,Bool[true,false,false,false,false,false,true,true,true,false],0.7435098488027754) \n Individua(10,Bool[false,true,true,true,true,true,false,true,false,false],0.38153326511778296)  \n Individua(10,Bool[true,false,false,false,false,false,true,true,true,false],0.3278734708762707) \n Individua(10,Bool[true,false,false,false,false,false,true,true,true,false],0.2996082046364543) \n Individua(10,Bool[false,true,false,false,false,false,true,true,true,false],0.1845847846081261) \n Individua(10,Bool[true,false,false,false,true,true,true,true,false,false],0.04755601746133187) \n  at index [10]\nwhile loading In[17], in expression starting on line 38",
     "output_type": "error",
     "traceback": [
      "LoadError: BoundsError: attempt to access 9-element Array{Any,1}:\n Individua(10,Bool[true,false,false,false,false,false,true,true,false,false],0.9579231121176701)\n Individua(10,Bool[true,true,true,false,true,true,true,true,false,false],0.8270692422873147)    \n Individua(10,Bool[true,false,false,false,false,false,true,true,true,false],0.7914560223377953) \n Individua(10,Bool[true,false,false,false,false,false,true,true,true,false],0.7435098488027754) \n Individua(10,Bool[false,true,true,true,true,true,false,true,false,false],0.38153326511778296)  \n Individua(10,Bool[true,false,false,false,false,false,true,true,true,false],0.3278734708762707) \n Individua(10,Bool[true,false,false,false,false,false,true,true,true,false],0.2996082046364543) \n Individua(10,Bool[false,true,false,false,false,false,true,true,true,false],0.1845847846081261) \n Individua(10,Bool[true,false,false,false,true,true,true,true,false,false],0.04755601746133187) \n  at index [10]\nwhile loading In[17], in expression starting on line 38",
      "",
      " in getindex at array.jl:283",
      " in turnir at In[7]:6",
      " in novaGen at In[17]:12"
     ]
    }
   ],
   "source": [
    "function novaGen(pop::Populacija)\n",
    "    #EvalPop(c)\n",
    "    #counter generacija\n",
    "    #elita\n",
    "    elita = []\n",
    "    if pop.VelicinaElite>0\n",
    "        elita = pop.Populacija[1:pop.VelicinaElite]\n",
    "    end\n",
    "    brPotomaka = pop.VelicinaPopulacije - length(elita)\n",
    "    djeca = []\n",
    "    \n",
    "    odabraniRoditelji = turnir(pop,div(brPotomaka,2),0.8)\n",
    "    \n",
    "    while length(djeca)<=brPotomaka\n",
    "        roditelj1 = odabraniRoditelji[rand(1:length(odabraniRoditelji))]\n",
    "        roditelj2 = odabraniRoditelji[rand(1:length(odabraniRoditelji))]\n",
    "        temp = ukrstanje(roditelj1,roditelj2);\n",
    "        if(pop.VjerovatnocaKrizanja>rand())\n",
    "            push!(djeca,temp[1])\n",
    "        end\n",
    "    end\n",
    "    \n",
    "    #mutacija\n",
    "    if(pop.VjerovatnocaMutacije>rand())\n",
    "        mutira = djeca[rand(1:length(djeca))]\n",
    "        mutacija(mutira)\n",
    "    end\n",
    "    \n",
    "    rez = [djeca;elita]\n",
    "        \n",
    "    println(djeca)\n",
    "    pop.Populacija = djeca;\n",
    "    return pop;\n",
    "end\n",
    "\n",
    "EvalPop(c)\n",
    "println(c)\n",
    "novaGen(c)\n",
    "println(c)"
   ]
  },
  {
   "cell_type": "code",
   "execution_count": 16,
   "metadata": {
    "collapsed": false
   },
   "outputs": [
    {
     "data": {
      "text/plain": [
       "4"
      ]
     },
     "execution_count": 16,
     "metadata": {},
     "output_type": "execute_result"
    }
   ],
   "source": [
    "div(9,2)"
   ]
  },
  {
   "cell_type": "code",
   "execution_count": 1,
   "metadata": {
    "collapsed": false
   },
   "outputs": [
    {
     "data": {
      "text/plain": [
       "test(1,\"2\")"
      ]
     },
     "execution_count": 1,
     "metadata": {},
     "output_type": "execute_result"
    }
   ],
   "source": [
    "type test\n",
    "    duz::Int\n",
    "    ime\n",
    "end\n",
    "function test()\n",
    "    return test(1,\"2\");\n",
    "end\n",
    "tt = test()"
   ]
  },
  {
   "cell_type": "code",
   "execution_count": null,
   "metadata": {
    "collapsed": true
   },
   "outputs": [],
   "source": []
  }
 ],
 "metadata": {
  "kernelspec": {
   "display_name": "Julia 0.4.6",
   "language": "julia",
   "name": "julia-0.4"
  },
  "language_info": {
   "file_extension": ".jl",
   "mimetype": "application/julia",
   "name": "julia",
   "version": "0.4.6"
  }
 },
 "nbformat": 4,
 "nbformat_minor": 0
}
