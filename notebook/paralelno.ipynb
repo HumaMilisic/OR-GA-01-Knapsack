{
 "cells": [
  {
   "cell_type": "code",
   "execution_count": 1,
   "metadata": {
    "collapsed": false
   },
   "outputs": [
    {
     "name": "stdout",
     "output_type": "stream",
     "text": [
      "elapsed time: 0.212952055 seconds\n",
      "RemoteRef{Channel{Any}}(4,1,5)"
     ]
    }
   ],
   "source": [
    "#add 4 workers\n",
    "procesi = addprocs(4)\n",
    "\n",
    "tic()\n",
    "rmatrix = remotecall(4,rand,2,2)\n",
    "toc()\n",
    "print(rmatrix)"
   ]
  },
  {
   "cell_type": "code",
   "execution_count": 2,
   "metadata": {
    "collapsed": false
   },
   "outputs": [
    {
     "name": "stdout",
     "output_type": "stream",
     "text": [
      "elapsed time: 0.238826897 seconds\n",
      "[0.5285267419370376 0.6070935472889003\n",
      " 0.9172594098780968 0.4978545486821013]"
     ]
    }
   ],
   "source": [
    "tic()\n",
    "rmatrix = remotecall_fetch(4,rand,2,2)\n",
    "toc()\n",
    "print(rmatrix)"
   ]
  },
  {
   "cell_type": "code",
   "execution_count": null,
   "metadata": {
    "collapsed": true
   },
   "outputs": [],
   "source": []
  }
 ],
 "metadata": {
  "kernelspec": {
   "display_name": "Julia 0.4.6",
   "language": "julia",
   "name": "julia-0.4"
  },
  "language_info": {
   "file_extension": ".jl",
   "mimetype": "application/julia",
   "name": "julia",
   "version": "0.4.6"
  }
 },
 "nbformat": 4,
 "nbformat_minor": 0
}
