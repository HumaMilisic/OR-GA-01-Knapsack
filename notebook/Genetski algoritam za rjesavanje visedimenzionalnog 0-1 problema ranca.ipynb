{
 "cells": [
  {
   "cell_type": "markdown",
   "metadata": {},
   "source": [
    "# Opis problema\n",
    "\n",
    "\n",
    "Visedimenzionalni 0-1 problem ranca se klasifikuje kao NP tezak problem optimizacije. Moze se definisati kao:\n",
    "\n",
    "\n",
    "**Ulaz**\n",
    "\n",
    "* skup $O$ objekata {$o_1,...,o_n$}\n",
    "* ranac $K$\n",
    "\n",
    "**Izlaz**\n",
    "\n",
    "* skup $O'$ objekata koji su u rancu"
   ]
  },
  {
   "cell_type": "markdown",
   "metadata": {},
   "source": [
    "# Postavka problema\n",
    "\n",
    "Visedimenzionalni 0-1 problem ranca je generalizacija 0-1 problema ranca. Sastoji se iz odabira podskupa objekata na taj nacin da je profit maximiziran pri cemu se postuju zadana ogranicenja.\n",
    "\n",
    "$max\\sum_{j=1}^{n}c_j\\cdot x_j$\n",
    "\n",
    "po:\n",
    "\n",
    "$\\sum_{j=1}^{n}a_{i,j}\\cdot x_j\\leq b_i,\\forall i=1..m$\n",
    "\n",
    "$x_j\\epsilon\\left \\{ 0,1 \\right \\},1\\leq j\\leq n$\n",
    "\n",
    "gdje je:\n",
    "\n",
    "* $n$ je broj objekata\n",
    "* $m$ je broj dimenzija ogranicenja ranca\n",
    "* $c_j$ je profit objekta $j$ u rancu\n",
    "* $x_j$ je binarna varijabla koja predstavlja da li se $j$-ti objekat stavlja ili ne stavlja u ranac\n",
    "* $b_i$ je kapacitet $i$-te dimenzije\n",
    "* $a_{i,j}$ je element matrice ogranicenja ranca, gdje je matrica dimenzije $nxm$"
   ]
  },
  {
   "cell_type": "markdown",
   "metadata": {},
   "source": [
    "# Julia\n",
    "\n",
    "Julia je dinamicki jezik visokog nivoa, visokih performansi za tehnicka racunanja sa sintaksom poznatom korisnicima drugih tehnickih kompjuterskih okruzenja (R, python). \n",
    "\n",
    "Ovaj rad je pisan u IJulia, kolaboracija Jupyter i Julia developera, namjenjen kao browser graficka sveska za Juliju.\n",
    "\n",
    "# Testni primjer\n",
    "\n",
    "Testni primjer preuzet iz [2]. Datoteka sadrzi: m, n, rjesenje, c, A, b i postavke za taboo pretragu koji se ignorisu."
   ]
  },
  {
   "cell_type": "code",
   "execution_count": 1,
   "metadata": {
    "collapsed": false
   },
   "outputs": [
    {
     "data": {
      "text/plain": [
       "parsiraj! (generic function with 1 method)"
      ]
     },
     "execution_count": 1,
     "metadata": {},
     "output_type": "execute_result"
    }
   ],
   "source": [
    "dir = pwd()\n",
    "cd(\"$dir\\\\input\")\n",
    "\n",
    "type parr\n",
    "    n::Int\n",
    "    m::Int\n",
    "    rjesenje::Int\n",
    "end\n",
    "\n",
    "function openNth(br,sadrzaj)\n",
    "    filein = open(sadrzaj[br])\n",
    "    puni=\"\"\n",
    "    for line in eachline(filein)\n",
    "        puni = puni * line\n",
    "    end\n",
    "    puni = strip(puni)\n",
    "    #println(puni)\n",
    "    close(filein)\n",
    "    return puni\n",
    "end\n",
    "\n",
    "function parsiraj!(puni,c,A,b,par::parr)\n",
    "    brojevi_str = split(puni,r\" |\\r|\\n\",keep=false)\n",
    "    par.n = parse(Int,brojevi_str[1])\n",
    "    par.m = parse(Int,brojevi_str[2])\n",
    "    par.rjesenje = parse(Int,brojevi_str[3])\n",
    "    \n",
    "    cA = brojevi_str[4:(3+par.n)]\n",
    "    tempA = brojevi_str[4+par.n:(3+par.n+par.n*par.m)]\n",
    "    bA = brojevi_str[4+par.n+par.n*par.m:(3+par.n+par.n*par.m+par.m)]\n",
    "    \n",
    "    for i in bA\n",
    "        ii = parse(Float64,i)\n",
    "        push!(b,ii)\n",
    "    end\n",
    "    for i in cA\n",
    "        ii = parse(Float64,i)\n",
    "        push!(c,ii)\n",
    "    end\n",
    "    \n",
    "    for poc in 1:par.n:(par.m*par.n)\n",
    "        #println(poc)\n",
    "        tt = []\n",
    "        for i in 0:(par.n-1)\n",
    "            #print(tempA[poc+i]*\" \")\n",
    "            push!(tt,parse(Float64,tempA[poc+i]))\n",
    "        end\n",
    "\n",
    "        push!(A,map(Float64,tt))\n",
    "    end\n",
    "end"
   ]
  },
  {
   "cell_type": "markdown",
   "metadata": {},
   "source": [
    "# GA\n",
    "## Individua"
   ]
  },
  {
   "cell_type": "code",
   "execution_count": 2,
   "metadata": {
    "collapsed": false
   },
   "outputs": [
    {
     "data": {
      "text/plain": [
       "Individua"
      ]
     },
     "execution_count": 2,
     "metadata": {},
     "output_type": "execute_result"
    }
   ],
   "source": [
    "type Individua\n",
    "    Duzina\n",
    "    Hromozom\n",
    "    Fitnes::Float64\n",
    "end\n",
    "function Individua(Duzina::Int)\n",
    "    Hromozom = BitArray(Duzina)\n",
    "    rand!(Hromozom)\n",
    "    return Individua(Duzina,Hromozom,0.0)\n",
    "end\n",
    "function Individua(Hromozom::BitArray)\n",
    "    Duzina = length(Hromozom)\n",
    "    return Individua(Duzina,Hromozom,0.0)\n",
    "end"
   ]
  },
  {
   "cell_type": "markdown",
   "metadata": {},
   "source": [
    "### Operacije nad individuom\n",
    "Mutacija, nasumicno se bira lokus i negira vrijednost njegove allele."
   ]
  },
  {
   "cell_type": "code",
   "execution_count": 3,
   "metadata": {
    "collapsed": false
   },
   "outputs": [
    {
     "data": {
      "text/plain": [
       "Mutiraj! (generic function with 1 method)"
      ]
     },
     "execution_count": 3,
     "metadata": {},
     "output_type": "execute_result"
    }
   ],
   "source": [
    "function Mutiraj!(a::Individua)\n",
    "    poz = rand(1:a.Duzina)\n",
    "    a.Hromozom[poz] = !a.Hromozom[poz]\n",
    "    return a\n",
    "end"
   ]
  },
  {
   "cell_type": "markdown",
   "metadata": {},
   "source": [
    "Ukrstanja\n",
    "\n",
    "* _Ukrstanje_ - ukrstanje u dvije tacke, jedna funkcija vraca jedno djete po vjerovatnoci, druga vraca oboje\n",
    "* _UkrstanjeN_ - ukrstanje u n tacka, gdje je n neparan broj, jedna funkcija vraca jedno djete po vjerovatnoci, druga vraca oboje\n",
    "* _UkrstanjeUn_ - ukrstanje uniformno, allele se nasumicno biraju od roditelja"
   ]
  },
  {
   "cell_type": "code",
   "execution_count": 4,
   "metadata": {
    "collapsed": false
   },
   "outputs": [
    {
     "data": {
      "text/plain": [
       "UkrstanjeN (generic function with 2 methods)"
      ]
     },
     "execution_count": 4,
     "metadata": {},
     "output_type": "execute_result"
    }
   ],
   "source": [
    "function Ukrstanje(a::Individua,b::Individua,p::Float64)\n",
    "    tacka1 = rand(1:(a.Duzina-1))\n",
    "    tacka2 = rand(1:(a.Duzina-1))\n",
    "    if(tacka2<tacka1)\n",
    "        temp = tacka2\n",
    "        tacka2 = tacka1\n",
    "        tacka1 = temp\n",
    "    end\n",
    "    #println(tacka)\n",
    "    t1 = Individua([a.Hromozom[1:tacka1];b.Hromozom[(tacka1+1):tacka2]\n",
    "        ;a.Hromozom[(tacka2+1):end]])\n",
    "    t2 = Individua([b.Hromozom[1:tacka1];a.Hromozom[(tacka1+1):tacka2]\n",
    "        ;b.Hromozom[(tacka2+1):end]])\n",
    "    if(p>rand())\n",
    "        return t1\n",
    "    end\n",
    "    return t2\n",
    "end\n",
    "function Ukrstanje(a::Individua,b::Individua)\n",
    "    tacka1 = rand(1:(a.Duzina-1))\n",
    "    tacka2 = rand(1:(a.Duzina-1))\n",
    "    if(tacka2<tacka1)\n",
    "        temp = tacka2\n",
    "        tacka2 = tacka1\n",
    "        tacka1 = temp\n",
    "    end\n",
    "    #println(tacka)\n",
    "    t1 = Individua([a.Hromozom[1:tacka1];b.Hromozom[(tacka1+1):tacka2]\n",
    "        ;a.Hromozom[(tacka2+1):end]])\n",
    "    t2 = Individua([b.Hromozom[1:tacka1];a.Hromozom[(tacka1+1):tacka2]\n",
    "        ;b.Hromozom[(tacka2+1):end]])\n",
    "\n",
    "    return [t1;t2]\n",
    "end\n",
    "function UkrstanjeUn(a::Individua,b::Individua)\n",
    "    rez1=BitArray(a.Duzina)\n",
    "    rez2=BitArray(a.Duzina)\n",
    "    \n",
    "    for i in 1:a.Duzina\n",
    "        p = rand()\n",
    "        \n",
    "        if(p<0.5)\n",
    "            rez1[i]=a.Hromozom[i]\n",
    "            rez2[i]=b.Hromozom[i]\n",
    "        else\n",
    "            rez2[i]=a.Hromozom[i]\n",
    "            rez1[i]=b.Hromozom[i]\n",
    "        end\n",
    "    end\n",
    "    \n",
    "    return [Individua(rez1);Individua(rez2)]\n",
    "end\n",
    "function UkrstanjeN(a::Individua,b::Individua,p::Float64,n::Int)\n",
    "    tacke = Array(Int,0)\n",
    "    niz = 2:(a.Duzina-1)\n",
    "    for s in 1:n\n",
    "        t = rand(niz)\n",
    "        push!(tacke,t)\n",
    "    end\n",
    "    sort!(tacke)\n",
    "\n",
    "    kraj = length(tacke)\n",
    "    h1 = [b.Hromozom[1:tacke[1]]]\n",
    "    h2 = [a.Hromozom[1:tacke[1]]]\n",
    "    for i in 1:2:(kraj-1)\n",
    "        \n",
    "        if((i+1)>kraj||(i+2)>kraj)\n",
    "            break\n",
    "        end\n",
    "        temp = h1\n",
    "        h1 = [temp;a.Hromozom[(tacke[i]+1):tacke[i+1]];\n",
    "            b.Hromozom[(tacke[i+1]+1):tacke[i+2]]]\n",
    "        h2 = [temp;b.Hromozom[(tacke[i]+1):tacke[i+1]];\n",
    "            a.Hromozom[(tacke[i+1]+1):tacke[i+2]]]\n",
    "    end\n",
    "    \n",
    "    h1 = [h1;b.Hromozom[(tacke[kraj]+1):end]]\n",
    "    h2 = [h2;a.Hromozom[(tacke[kraj]+1):end]]\n",
    "    \n",
    "    t1 = Individua(h1)\n",
    "    t2 = Individua(h2)    \n",
    "    \n",
    "    if(p>rand())\n",
    "        return t1\n",
    "    end\n",
    "    return t2\n",
    "end\n",
    "function UkrstanjeN(a::Individua,b::Individua,n::Int)\n",
    "    tacke = Array(Int,0)\n",
    "    niz = 2:(a.Duzina-1)\n",
    "    for s in 1:n\n",
    "        t = rand(niz)\n",
    "        push!(tacke,t)\n",
    "    end\n",
    "    sort!(tacke)\n",
    "\n",
    "    kraj = length(tacke)\n",
    "    h1 = [b.Hromozom[1:tacke[1]]]\n",
    "    h2 = [a.Hromozom[1:tacke[1]]]\n",
    "    for i in 1:2:(kraj-1)        \n",
    "        if((i+1)>kraj||(i+2)>kraj)\n",
    "            break\n",
    "        end\n",
    "        temp = h1\n",
    "        h1 = [temp;a.Hromozom[(tacke[i]+1):tacke[i+1]];\n",
    "            b.Hromozom[(tacke[i+1]+1):tacke[i+2]]]\n",
    "        h2 = [temp;b.Hromozom[(tacke[i]+1):tacke[i+1]];\n",
    "            a.Hromozom[(tacke[i+1]+1):tacke[i+2]]]\n",
    "    end\n",
    "    \n",
    "    h1 = [h1;b.Hromozom[(tacke[kraj]+1):end]]\n",
    "    h2 = [h2;a.Hromozom[(tacke[kraj]+1):end]]\n",
    "    \n",
    "    t1 = Individua(h1)\n",
    "    t2 = Individua(h2)    \n",
    "    \n",
    "    return [t1;t2]\n",
    "end"
   ]
  },
  {
   "cell_type": "markdown",
   "metadata": {},
   "source": [
    "Evaluiraj! racuna fitnes Individue na osnovu unesenih A, c, b, n, m. Uvedena je kazna tezine izracunatog fitnes, za svako prekrseno ogranicenje."
   ]
  },
  {
   "cell_type": "code",
   "execution_count": 5,
   "metadata": {
    "collapsed": false
   },
   "outputs": [
    {
     "data": {
      "text/plain": [
       "Evauliraj! (generic function with 1 method)"
      ]
     },
     "execution_count": 5,
     "metadata": {},
     "output_type": "execute_result"
    }
   ],
   "source": [
    "function UFloatNiz(niz)\n",
    "    rez=Array(Float64,0)\n",
    "    for a in niz\n",
    "        push!(rez,Float64(a))\n",
    "    end\n",
    "    return rez;\n",
    "end\n",
    "function Evauliraj!(a::Individua,A,c,b,n,m)\n",
    "    tt=UFloatNiz(a.Hromozom)\n",
    "    fitnes = tt'*c\n",
    "    kazna = fitnes\n",
    "    for i in 1:m\n",
    "        sum = 0.0\n",
    "        for j in 1:n\n",
    "            sum += (A[i][j]*tt[j])\n",
    "        end\n",
    "        if sum<=b[i]\n",
    "            #continue\n",
    "        else\n",
    "            fitnes-=kazna\n",
    "        end\n",
    "    end\n",
    "    #println(fitnes)\n",
    "    a.Fitnes = fitnes[1]\n",
    "end"
   ]
  },
  {
   "cell_type": "markdown",
   "metadata": {},
   "source": [
    "## Populacija"
   ]
  },
  {
   "cell_type": "code",
   "execution_count": 6,
   "metadata": {
    "collapsed": false
   },
   "outputs": [
    {
     "data": {
      "text/plain": [
       "Populacija"
      ]
     },
     "execution_count": 6,
     "metadata": {},
     "output_type": "execute_result"
    }
   ],
   "source": [
    "type Populacija\n",
    "    DuzinaHromozoma::Int\n",
    "    MaxGeneracija::Int\n",
    "    VelicinaPopulacije::Int\n",
    "    BrElite::Int\n",
    "    BrMutacija::Int\n",
    "    Iteracija::Int\n",
    "    Populacija\n",
    "end\n",
    "function Populacija(Duzina::Int64)\n",
    "    MaxGeneracija = 100*Duzina # 100 * brojvarijabli\n",
    "    VelicinaPopulacije = 51 #neparn broj uvijek zbog neke logike\n",
    "    BrElite = 1;\n",
    "    BrMutacija = 15;\n",
    "    Iteracija = 0;\n",
    "    populacija = [];\n",
    "    for a in 1:VelicinaPopulacije\n",
    "        push!(populacija,Individua(Duzina))\n",
    "    end\n",
    "    return Populacija(Duzina,MaxGeneracija,VelicinaPopulacije,\n",
    "    BrElite,BrMutacija,Iteracija,populacija)\n",
    "end\n",
    "function Populacija(Duzina::Int64,VelicinaPopulacije::Int64,\n",
    "    BrMutacija::Int64)\n",
    "    MaxGeneracija = 100*Duzina # 100 * brojvarijabli\n",
    "    BrElite = 1;\n",
    "    Iteracija = 0;\n",
    "    populacija = [];\n",
    "    for a in 1:VelicinaPopulacije\n",
    "        push!(populacija,Individua(Duzina))\n",
    "    end\n",
    "    return Populacija(Duzina,MaxGeneracija,VelicinaPopulacije,\n",
    "    BrElite,BrMutacija,Iteracija,populacija)\n",
    "end"
   ]
  },
  {
   "cell_type": "markdown",
   "metadata": {},
   "source": [
    "### Evaluacija fitnesa svih jedinki"
   ]
  },
  {
   "cell_type": "code",
   "execution_count": 7,
   "metadata": {
    "collapsed": false
   },
   "outputs": [
    {
     "data": {
      "text/plain": [
       "EvalPop! (generic function with 2 methods)"
      ]
     },
     "execution_count": 7,
     "metadata": {},
     "output_type": "execute_result"
    }
   ],
   "source": [
    "function EvalPop!(pop::Populacija,m,n,A,b,c)\n",
    "    for a in pop.Populacija\n",
    "        Evauliraj!(a,A,c,b,n,m)\n",
    "    end\n",
    "    sort!(pop.Populacija, by=x->(x.Fitnes), rev=true)\n",
    "end\n",
    "function EvalPop!(pop::Populacija)\n",
    "    for a in pop.Populacija\n",
    "        Evauliraj!(a)\n",
    "    end\n",
    "    sort!(pop.Populacija, by=x->(x.Fitnes), rev=true)\n",
    "end"
   ]
  },
  {
   "cell_type": "markdown",
   "metadata": {},
   "source": [
    "### Selekcija roditelja\n",
    "\n",
    "* Dvije varijante turnira, jedna generise dva roditelja, druga generise m roditelja\n",
    "* RWS - Roulette Wheel selekcija proporcionalno fitnesu"
   ]
  },
  {
   "cell_type": "code",
   "execution_count": 8,
   "metadata": {
    "collapsed": false
   },
   "outputs": [
    {
     "data": {
      "text/plain": [
       "Turnir (generic function with 2 methods)"
      ]
     },
     "execution_count": 8,
     "metadata": {},
     "output_type": "execute_result"
    }
   ],
   "source": [
    "function Turnir(pop::Populacija,m::Int64,p::Float64)\n",
    "    rez = [];\n",
    "    for a in 1:m\n",
    "        temp = [];\n",
    "        t = rand(1:pop.VelicinaPopulacije)\n",
    "        push!(temp,pop.Populacija[t])\n",
    "        t = rand(1:pop.VelicinaPopulacije)\n",
    "        push!(temp,pop.Populacija[t])\n",
    "        sort!(temp,by=x->(x.Fitnes))\n",
    "        if(p<rand())\n",
    "            push!(rez,temp[1])\n",
    "        else\n",
    "            push!(rez,temp[2])\n",
    "        end\n",
    "    end\n",
    "    return rez\n",
    "end\n",
    "function Turnir(pop::Populacija,p::Float64)\n",
    "    return Turnir(pop,2,p);\n",
    "end"
   ]
  },
  {
   "cell_type": "code",
   "execution_count": 9,
   "metadata": {
    "collapsed": false
   },
   "outputs": [
    {
     "data": {
      "text/plain": [
       "RWS (generic function with 1 method)"
      ]
     },
     "execution_count": 9,
     "metadata": {},
     "output_type": "execute_result"
    }
   ],
   "source": [
    "function RWS(pop::Populacija)\n",
    "    p = Array(Float64,pop.VelicinaPopulacije)\n",
    "    suma = 0;\n",
    "    for i in 1:pop.VelicinaPopulacije\n",
    "        suma+=pop.Populacija[i].Fitnes\n",
    "    end\n",
    "    #fitnes moze biti negativan, zbog kazni\n",
    "    max = 0.99\n",
    "    for i in pop.VelicinaPopulacije:-1:1\n",
    "        if(pop.Populacija[i].Fitnes<0)\n",
    "            p[i] = max\n",
    "            max-=0.01\n",
    "        else\n",
    "            p[i]=abs(pop.Populacija[i].Fitnes/suma)\n",
    "        end\n",
    "    end    \n",
    "    j = 1;\n",
    "    suma = p[j]\n",
    "    u = rand()\n",
    "    while (suma<u)\n",
    "        j+=1\n",
    "        suma+=(p[j])\n",
    "    end\n",
    "    return pop.Populacija[j]\n",
    "end"
   ]
  },
  {
   "cell_type": "markdown",
   "metadata": {},
   "source": [
    "### Ostale operacije\n",
    "\n",
    "Funkcija DajElite, podrazumjeva sortiranu populaciju po fitnesu i vraca broj elita definisanih u objektu Populacija.\n",
    "\n",
    "Funkcija Mutacija na osnovu broja definisanog u objektu Populacija mutira djecu. Po matlabovim specifikacijama, mutacija se sigurno desava, u objektu se definise kolko puta."
   ]
  },
  {
   "cell_type": "code",
   "execution_count": 10,
   "metadata": {
    "collapsed": false
   },
   "outputs": [
    {
     "data": {
      "text/plain": [
       "ProsjekFitnesa (generic function with 1 method)"
      ]
     },
     "execution_count": 10,
     "metadata": {},
     "output_type": "execute_result"
    }
   ],
   "source": [
    "function DajElite(pop::Populacija)\n",
    "    br = pop.BrElite\n",
    "    return pop.Populacija[1:br]\n",
    "end\n",
    "function Mutacija(pop::Populacija,djeca)\n",
    "    for i in 1:pop.BrMutacija\n",
    "        br = rand(1:length(djeca))\n",
    "        d = djeca[br]\n",
    "        t = Mutiraj!(d)\n",
    "        djeca[br] = t;\n",
    "    end\n",
    "end\n",
    "function ProsjekFitnesa(pop::Populacija)\n",
    "    suma = 0;\n",
    "    for a in pop.Populacija \n",
    "        suma+=a.Fitnes \n",
    "    end\n",
    "    suma/=length(pop.Populacija)\n",
    "    return suma\n",
    "end"
   ]
  },
  {
   "cell_type": "markdown",
   "metadata": {},
   "source": [
    "### Konstrukcija djece sa selekcijom i ukrstanjem"
   ]
  },
  {
   "cell_type": "code",
   "execution_count": 11,
   "metadata": {
    "collapsed": false
   },
   "outputs": [
    {
     "data": {
      "text/plain": [
       "DajDjecu (generic function with 2 methods)"
      ]
     },
     "execution_count": 11,
     "metadata": {},
     "output_type": "execute_result"
    }
   ],
   "source": [
    "function DajDjecu(pop::Populacija,roditelji)\n",
    "    rez = []\n",
    "    brDjece = pop.VelicinaPopulacije - pop.BrElite\n",
    "    while length(rez)<=brDjece\n",
    "        r1 = roditelji[rand(1:length(roditelji))]\n",
    "        r2 = roditelji[rand(1:length(roditelji))]\n",
    "        d = Ukrstanje(r1,r2)\n",
    "        push!(rez,d[1])\n",
    "        push!(rez,d[2])\n",
    "    end\n",
    "    return rez\n",
    "end\n",
    "function DajDjecu(pop::Populacija)\n",
    "    rez = []\n",
    "    brDjece = pop.VelicinaPopulacije - pop.BrElite\n",
    "    while length(rez)<=brDjece\n",
    "        roditelji = Turnir(pop,0.9)\n",
    "        r1 = roditelji[1]\n",
    "        r2 = roditelji[2]\n",
    "        d = Ukrstanje(r1,r2)\n",
    "        push!(rez,d[1])\n",
    "        push!(rez,d[2])\n",
    "    end\n",
    "    return rez\n",
    "end"
   ]
  },
  {
   "cell_type": "code",
   "execution_count": 12,
   "metadata": {
    "collapsed": false
   },
   "outputs": [
    {
     "data": {
      "text/plain": [
       "DajDjecuUn (generic function with 1 method)"
      ]
     },
     "execution_count": 12,
     "metadata": {},
     "output_type": "execute_result"
    }
   ],
   "source": [
    "function DajDjecuUn(pop::Populacija)\n",
    "    rez = []\n",
    "    brDjece = pop.VelicinaPopulacije - pop.BrElite\n",
    "    while length(rez)<=brDjece\n",
    "        roditelji = Turnir(pop,0.9)\n",
    "        r1 = roditelji[1]\n",
    "        r2 = roditelji[2]\n",
    "        d = UkrstanjeUn(r1,r2)\n",
    "        push!(rez,d[1])\n",
    "        push!(rez,d[2])\n",
    "    end\n",
    "    return rez\n",
    "end"
   ]
  },
  {
   "cell_type": "code",
   "execution_count": 13,
   "metadata": {
    "collapsed": false
   },
   "outputs": [
    {
     "data": {
      "text/plain": [
       "DajDjecuUnRWS (generic function with 1 method)"
      ]
     },
     "execution_count": 13,
     "metadata": {},
     "output_type": "execute_result"
    }
   ],
   "source": [
    "function DajDjecuUnRWS(pop::Populacija)\n",
    "    rez = []\n",
    "    brDjece = pop.VelicinaPopulacije - pop.BrElite\n",
    "    while length(rez)<=brDjece        \n",
    "        r1 = RWS(pop)\n",
    "        r2 = RWS(pop)\n",
    "        d = UkrstanjeUn(r1,r2)\n",
    "        push!(rez,d[1])\n",
    "        push!(rez,d[2])\n",
    "    end\n",
    "    return rez\n",
    "end"
   ]
  },
  {
   "cell_type": "markdown",
   "metadata": {},
   "source": [
    "# Kombinacije izvrsavanja\n",
    "\n",
    "## kombo1\n",
    "\n",
    "Populacija sa 15 mutacija, velicina populacije 51. Konstruise se niz roditelja. Nasumicno odabrani roditelji konstruisu jedno dijete ukrstanjem u 2 tacke."
   ]
  },
  {
   "cell_type": "code",
   "execution_count": 14,
   "metadata": {
    "collapsed": false
   },
   "outputs": [
    {
     "data": {
      "text/plain": [
       "kombo1 (generic function with 1 method)"
      ]
     },
     "execution_count": 14,
     "metadata": {},
     "output_type": "execute_result"
    }
   ],
   "source": [
    "function kombo1(m,n,A,b,c,rjesenje)\n",
    "    pop = Populacija(n)\n",
    "    naj = 0\n",
    "    for pop.Iteracija in 1:pop.MaxGeneracija\n",
    "        \n",
    "        EvalPop!(pop,m,n,A,b,c)\n",
    "\n",
    "        prosjek = ProsjekFitnesa(pop)\n",
    "        naj = pop.Populacija[1].Fitnes\n",
    "\n",
    "        elite = DajElite(pop)\n",
    "\n",
    "        roditelji = \n",
    "        Turnir(pop,Int((pop.VelicinaPopulacije-pop.BrElite)/2),0.9)\n",
    "        djeca = DajDjecu(pop,roditelji)\n",
    "        Mutacija(pop,djeca)\n",
    "        append!(djeca,elite)\n",
    "        pop.Populacija = djeca\n",
    "    end\n",
    "    return naj\n",
    "end"
   ]
  },
  {
   "cell_type": "markdown",
   "metadata": {},
   "source": [
    "## kombo2\n",
    "\n",
    "Populacija sa 15 mutacija, velicina populacije 51. Koristi turnir za odabir djece i ukrstanje u dvije tacke."
   ]
  },
  {
   "cell_type": "code",
   "execution_count": 15,
   "metadata": {
    "collapsed": false
   },
   "outputs": [
    {
     "data": {
      "text/plain": [
       "kombo2 (generic function with 1 method)"
      ]
     },
     "execution_count": 15,
     "metadata": {},
     "output_type": "execute_result"
    }
   ],
   "source": [
    "function kombo2(m,n,A,b,c,rjesenje)\n",
    "    pop = Populacija(n)\n",
    "    naj = 0\n",
    "    for pop.Iteracija in 1:pop.MaxGeneracija        \n",
    "        EvalPop!(pop,m,n,A,b,c)\n",
    "\n",
    "        prosjek = ProsjekFitnesa(pop)\n",
    "        naj = pop.Populacija[1].Fitnes\n",
    "\n",
    "        elite = DajElite(pop)\n",
    "        djeca = DajDjecu(pop)\n",
    "        Mutacija(pop,djeca)\n",
    "        append!(djeca,elite)\n",
    "        pop.Populacija = djeca\n",
    "    end\n",
    "    return naj\n",
    "end"
   ]
  },
  {
   "cell_type": "markdown",
   "metadata": {},
   "source": [
    "## kombo3\n",
    "\n",
    "Populacija sa 15 mutacija, velicina populacije 51. Koristi turnir za odabir djece i uniformno ukrstanje."
   ]
  },
  {
   "cell_type": "code",
   "execution_count": 16,
   "metadata": {
    "collapsed": false
   },
   "outputs": [
    {
     "data": {
      "text/plain": [
       "kombo3 (generic function with 1 method)"
      ]
     },
     "execution_count": 16,
     "metadata": {},
     "output_type": "execute_result"
    }
   ],
   "source": [
    "function kombo3(m,n,A,b,c,rjesenje)\n",
    "    pop = Populacija(n)\n",
    "    naj=0\n",
    "    for pop.Iteracija in 1:pop.MaxGeneracija        \n",
    "        EvalPop!(pop,m,n,A,b,c)\n",
    "\n",
    "        prosjek = ProsjekFitnesa(pop)\n",
    "        naj = pop.Populacija[1].Fitnes\n",
    "\n",
    "        elite = DajElite(pop)\n",
    "        djeca = DajDjecuUn(pop)\n",
    "        Mutacija(pop,djeca)\n",
    "        append!(djeca,elite)\n",
    "        pop.Populacija = djeca\n",
    "    end\n",
    "    return naj\n",
    "end"
   ]
  },
  {
   "cell_type": "markdown",
   "metadata": {},
   "source": [
    "## kombo3_1\n",
    "\n",
    "Populacija velicine 21, sa jednom mutacijom. Koristi turnir za odabir djece i uniformno ukrstanje."
   ]
  },
  {
   "cell_type": "code",
   "execution_count": 17,
   "metadata": {
    "collapsed": false
   },
   "outputs": [
    {
     "data": {
      "text/plain": [
       "kombo3_1 (generic function with 1 method)"
      ]
     },
     "execution_count": 17,
     "metadata": {},
     "output_type": "execute_result"
    }
   ],
   "source": [
    "function kombo3_1(m,n,A,b,c,rjesenje)\n",
    "    pop = Populacija(n,21,1)\n",
    "    naj=0\n",
    "    for pop.Iteracija in 1:pop.MaxGeneracija        \n",
    "        EvalPop!(pop,m,n,A,b,c)\n",
    "\n",
    "        prosjek = ProsjekFitnesa(pop)\n",
    "        naj = pop.Populacija[1].Fitnes\n",
    "\n",
    "        elite = DajElite(pop)\n",
    "        djeca = DajDjecuUn(pop)\n",
    "        Mutacija(pop,djeca)\n",
    "        append!(djeca,elite)\n",
    "        pop.Populacija = djeca\n",
    "    end\n",
    "    return naj\n",
    "end"
   ]
  },
  {
   "cell_type": "markdown",
   "metadata": {},
   "source": [
    "## kombo2_1\n",
    "\n",
    "Populacija velicine 21, sa jednom mutacijom. Koristi turnir za odabir djece i ukrstanje u dvije tacke."
   ]
  },
  {
   "cell_type": "code",
   "execution_count": 18,
   "metadata": {
    "collapsed": false
   },
   "outputs": [
    {
     "data": {
      "text/plain": [
       "kombo2_1 (generic function with 1 method)"
      ]
     },
     "execution_count": 18,
     "metadata": {},
     "output_type": "execute_result"
    }
   ],
   "source": [
    "function kombo2_1(m,n,A,b,c,rjesenje)\n",
    "    pop = Populacija(n,21,1)\n",
    "    naj=0\n",
    "    for pop.Iteracija in 1:pop.MaxGeneracija        \n",
    "        EvalPop!(pop,m,n,A,b,c)\n",
    "\n",
    "        prosjek = ProsjekFitnesa(pop)\n",
    "        naj = pop.Populacija[1].Fitnes\n",
    "\n",
    "        elite = DajElite(pop)\n",
    "        djeca = DajDjecu(pop)\n",
    "        Mutacija(pop,djeca)\n",
    "        append!(djeca,elite)\n",
    "        pop.Populacija = djeca\n",
    "    end\n",
    "    return naj\n",
    "end"
   ]
  },
  {
   "cell_type": "markdown",
   "metadata": {},
   "source": [
    "## kombo3_2\n",
    "\n",
    "Populacija velicine 51, sa jednom mutacijom. Koristi turnir za odabir djece i uniformno ukrstanje."
   ]
  },
  {
   "cell_type": "code",
   "execution_count": 19,
   "metadata": {
    "collapsed": false
   },
   "outputs": [
    {
     "data": {
      "text/plain": [
       "kombo3_2 (generic function with 1 method)"
      ]
     },
     "execution_count": 19,
     "metadata": {},
     "output_type": "execute_result"
    }
   ],
   "source": [
    "function kombo3_2(m,n,A,b,c,rjesenje)\n",
    "    pop = Populacija(n,51,1)\n",
    "    naj = 0\n",
    "    for pop.Iteracija in 1:pop.MaxGeneracija        \n",
    "        EvalPop!(pop,m,n,A,b,c)\n",
    "\n",
    "        prosjek = ProsjekFitnesa(pop)\n",
    "        naj = pop.Populacija[1].Fitnes\n",
    "\n",
    "        elite = DajElite(pop)\n",
    "        djeca = DajDjecuUn(pop)\n",
    "        Mutacija(pop,djeca)\n",
    "        append!(djeca,elite)\n",
    "        pop.Populacija = djeca\n",
    "    end\n",
    "    return naj\n",
    "end"
   ]
  },
  {
   "cell_type": "markdown",
   "metadata": {},
   "source": [
    "## kombo2_2\n",
    "\n",
    "Populacija velicine 51, sa jednom mutacijom. Koristi turnir za odabir djece i ukrstanje u dvije tacke."
   ]
  },
  {
   "cell_type": "code",
   "execution_count": 20,
   "metadata": {
    "collapsed": false
   },
   "outputs": [
    {
     "data": {
      "text/plain": [
       "kombo2_2 (generic function with 1 method)"
      ]
     },
     "execution_count": 20,
     "metadata": {},
     "output_type": "execute_result"
    }
   ],
   "source": [
    "function kombo2_2(m,n,A,b,c,rjesenje)\n",
    "    pop = Populacija(n,51,1)\n",
    "    naj = 0\n",
    "    for pop.Iteracija in 1:pop.MaxGeneracija        \n",
    "        EvalPop!(pop,m,n,A,b,c)\n",
    "\n",
    "        prosjek = ProsjekFitnesa(pop)\n",
    "        naj = pop.Populacija[1].Fitnes\n",
    "        \n",
    "        elite = DajElite(pop)\n",
    "        djeca = DajDjecu(pop)\n",
    "        Mutacija(pop,djeca)\n",
    "        append!(djeca,elite)\n",
    "        pop.Populacija = djeca\n",
    "    end\n",
    "    return naj\n",
    "end"
   ]
  },
  {
   "cell_type": "markdown",
   "metadata": {},
   "source": [
    "## kombo4\n",
    "Populacija sa 15 mutacija, velicina populacije 51. Koristi RWS za odabir djece i uniformno ukrstanje."
   ]
  },
  {
   "cell_type": "code",
   "execution_count": 21,
   "metadata": {
    "collapsed": false
   },
   "outputs": [
    {
     "data": {
      "text/plain": [
       "kombo4 (generic function with 1 method)"
      ]
     },
     "execution_count": 21,
     "metadata": {},
     "output_type": "execute_result"
    }
   ],
   "source": [
    "function kombo4(m,n,A,b,c,rjesenje)\n",
    "    pop = Populacija(n)\n",
    "    naj = 0\n",
    "    for pop.Iteracija in 1:pop.MaxGeneracija        \n",
    "        EvalPop!(pop,m,n,A,b,c)\n",
    "\n",
    "        prosjek = ProsjekFitnesa(pop)\n",
    "        naj = pop.Populacija[1].Fitnes\n",
    "        \n",
    "        elite = DajElite(pop)\n",
    "        djeca = DajDjecuUnRWS(pop)\n",
    "        Mutacija(pop,djeca)\n",
    "        append!(djeca,elite)\n",
    "        pop.Populacija = djeca\n",
    "    end\n",
    "    return naj\n",
    "end"
   ]
  },
  {
   "cell_type": "markdown",
   "metadata": {},
   "source": [
    "## kombo4_1\n",
    "Populacija sa jednom mutacijom, velicina populacije 51. Koristi RWS za odabir djece i uniformno ukrstanje."
   ]
  },
  {
   "cell_type": "code",
   "execution_count": 22,
   "metadata": {
    "collapsed": false
   },
   "outputs": [
    {
     "data": {
      "text/plain": [
       "kombo4_1 (generic function with 1 method)"
      ]
     },
     "execution_count": 22,
     "metadata": {},
     "output_type": "execute_result"
    }
   ],
   "source": [
    "function kombo4_1(m,n,A,b,c,rjesenje)\n",
    "    pop = Populacija(n,51,1)\n",
    "    naj = 0\n",
    "    for pop.Iteracija in 1:pop.MaxGeneracija        \n",
    "        EvalPop!(pop,m,n,A,b,c)\n",
    "\n",
    "        prosjek = ProsjekFitnesa(pop)\n",
    "        naj = pop.Populacija[1].Fitnes\n",
    "        \n",
    "        elite = DajElite(pop)\n",
    "        djeca = DajDjecuUnRWS(pop)\n",
    "        Mutacija(pop,djeca)\n",
    "        append!(djeca,elite)\n",
    "        pop.Populacija = djeca\n",
    "    end\n",
    "    return naj\n",
    "end"
   ]
  },
  {
   "cell_type": "markdown",
   "metadata": {},
   "source": [
    "# Rezultati\n",
    "## Postavke za statistiku\n",
    "Za statisticki pregled rezultata, napravljen je tip statistika."
   ]
  },
  {
   "cell_type": "code",
   "execution_count": 23,
   "metadata": {
    "collapsed": true
   },
   "outputs": [],
   "source": [
    "type statistika\n",
    "    algoritam\n",
    "    vrijednosti\n",
    "    vremena\n",
    "    broj\n",
    "    sumValue::Float64\n",
    "    sumTime::Float64\n",
    "    avgValue::Float64\n",
    "    avgTime::Float64\n",
    "end"
   ]
  },
  {
   "cell_type": "markdown",
   "metadata": {},
   "source": [
    "Napravljen je konstruktor koji postavlja pocetne vrijednosti za statistiku.\n",
    "Za manipulaciju statistike, funkcija dodaj! direktno modifikuje objekat, dodaje value i vrijeme u odgovarajuce nizove i racuna prosjeke."
   ]
  },
  {
   "cell_type": "code",
   "execution_count": 24,
   "metadata": {
    "collapsed": false
   },
   "outputs": [
    {
     "data": {
      "text/plain": [
       "ispis (generic function with 1 method)"
      ]
     },
     "execution_count": 24,
     "metadata": {},
     "output_type": "execute_result"
    }
   ],
   "source": [
    "function statistika(algoritam)\n",
    "    vrijednosti = Array(Float64,0)\n",
    "    vremena = Array(Float64,0)\n",
    "    return statistika(algoritam,vrijednosti,vremena,0,0,0,0,0)\n",
    "end\n",
    "function dodaj!(sta::statistika,value,vrijeme)\n",
    "    push!(sta.vrijednosti,value)\n",
    "    push!(sta.vremena,vrijeme)\n",
    "    sta.broj+=1\n",
    "    sta.sumValue+=value\n",
    "    sta.sumTime+=vrijeme\n",
    "    sta.avgValue = sta.sumValue/sta.broj\n",
    "    sta.avgTime = sta.sumTime/sta.broj\n",
    "end\n",
    "function ispis(niz)\n",
    "    for sta in niz\n",
    "        println(\"Algoritam $(sta.algoritam), pokrenut $(sta.broj) puta.\")\n",
    "        println(\"Prosjecno vrijeme izvrsavanje je $(sta.avgTime)s\"*\n",
    "        \", a prosjecno rjesenje je $(sta.avgValue)\\n\")\n",
    "    end\n",
    "end"
   ]
  },
  {
   "cell_type": "markdown",
   "metadata": {},
   "source": [
    "## Puni program\n",
    "\n",
    "Kupi testni primjer i 50 puta pozove sve kombinacije"
   ]
  },
  {
   "cell_type": "code",
   "execution_count": 25,
   "metadata": {
    "collapsed": false
   },
   "outputs": [
    {
     "name": "stdout",
     "output_type": "stream",
     "text": [
      "elapsed time: 719.268469093 seconds\n"
     ]
    },
    {
     "data": {
      "text/plain": [
       "719.268469093"
      ]
     },
     "execution_count": 25,
     "metadata": {},
     "output_type": "execute_result"
    }
   ],
   "source": [
    "sadrzaj = readdir()\n",
    "stKombo1 = statistika(\"kombo1\"); stKombo2 = statistika(\"kombo2\")\n",
    "stKombo2_1 = statistika(\"kombo2_1\"); stKombo2_2 = statistika(\"kombo2_2\")\n",
    "stKombo3 = statistika(\"kombo3\"); stKombo3_1 = statistika(\"kombo3_1\")\n",
    "stKombo3_2 = statistika(\"kombo3_2\"); stKombo4 = statistika(\"kombo4\")\n",
    "stKombo4_1 = statistika(\"kombo4_1\")\n",
    "c = Array(Float64,0); b= Array(Float64,0);A = []; par = parr(0,0,0)\n",
    "tic()\n",
    "for file in 1:50\n",
    "    puni = openNth(1,sadrzaj)\n",
    "\n",
    "    c = Array(Float64,0); b= Array(Float64,0);A = []; par = parr(0,0,0)\n",
    "    parsiraj!(puni,c,A,b,par)\n",
    "    n = par.n; m= par.m; rjesenje = par.rjesenje\n",
    "\n",
    "    tic()\n",
    "    value = kombo1(m,n,A,b,c,rjesenje)\n",
    "    dodaj!(stKombo1,value,toq())\n",
    "    \n",
    "    tic()\n",
    "    value = kombo2(m,n,A,b,c,rjesenje)\n",
    "    dodaj!(stKombo2,value,toq())\n",
    "    \n",
    "    tic()\n",
    "    value = kombo3(m,n,A,b,c,rjesenje)\n",
    "    dodaj!(stKombo3,value,toq())\n",
    "    \n",
    "    tic()\n",
    "    value = kombo3_1(m,n,A,b,c,rjesenje)\n",
    "    dodaj!(stKombo3_1,value,toq()) \n",
    "    \n",
    "    tic()\n",
    "    value = kombo2_1(m,n,A,b,c,rjesenje)\n",
    "    dodaj!(stKombo2_1,value,toq())\n",
    "    \n",
    "    tic()\n",
    "    value = kombo3_2(m,n,A,b,c,rjesenje)\n",
    "    dodaj!(stKombo3_2,value,toq())\n",
    "    \n",
    "    tic()\n",
    "    value = kombo2_2(m,n,A,b,c,rjesenje)\n",
    "    dodaj!(stKombo2_2,value,toq())\n",
    "    \n",
    "    tic()\n",
    "    value = kombo4(m,n,A,b,c,rjesenje)\n",
    "    dodaj!(stKombo4,value,toq())\n",
    "    \n",
    "    tic()\n",
    "    value = kombo4_1(m,n,A,b,c,rjesenje)\n",
    "    dodaj!(stKombo4_1,value,toq())\n",
    "    #break;\n",
    "\n",
    "end\n",
    "toc()"
   ]
  },
  {
   "cell_type": "code",
   "execution_count": 27,
   "metadata": {
    "collapsed": false
   },
   "outputs": [
    {
     "name": "stdout",
     "output_type": "stream",
     "text": [
      "n = 15 broj objekata, dimenzije hromozoma\n",
      "m = 10 broj dimenzija\n",
      "rjesenje = 4015\n",
      "\n",
      "c = [100.0,220.0,90.0,400.0,300.0,400.0,205.0,120.0,160.0,580.0,400.0,140.0,100.0,1300.0,650.0]\n",
      "b = [550.0,700.0,130.0,240.0,280.0,310.0,110.0,205.0,260.0,275.0]\n",
      "A = \n",
      "[8.0,24.0,13.0,80.0,70.0,80.0,45.0,15.0,28.0,90.0,130.0,32.0,20.0,120.0,40.0]\n",
      "[8.0,44.0,13.0,100.0,100.0,90.0,75.0,25.0,28.0,120.0,130.0,32.0,40.0,160.0,40.0]\n",
      "[3.0,6.0,4.0,20.0,20.0,30.0,8.0,3.0,12.0,14.0,40.0,6.0,3.0,20.0,5.0]\n",
      "[5.0,9.0,6.0,40.0,30.0,40.0,16.0,5.0,18.0,24.0,60.0,16.0,11.0,30.0,25.0]\n",
      "[5.0,11.0,7.0,50.0,40.0,40.0,19.0,7.0,18.0,29.0,70.0,21.0,17.0,30.0,25.0]\n",
      "[5.0,11.0,7.0,55.0,40.0,40.0,21.0,9.0,18.0,29.0,70.0,21.0,17.0,35.0,25.0]\n",
      "[0.0,0.0,1.0,10.0,4.0,10.0,0.0,6.0,0.0,6.0,32.0,3.0,0.0,70.0,10.0]\n",
      "[3.0,4.0,5.0,20.0,14.0,20.0,6.0,12.0,10.0,18.0,42.0,9.0,12.0,100.0,20.0]\n",
      "[3.0,6.0,9.0,30.0,29.0,20.0,12.0,12.0,10.0,30.0,42.0,18.0,18.0,110.0,20.0]\n",
      "[3.0,8.0,9.0,35.0,29.0,20.0,16.0,15.0,10.0,30.0,42.0,20.0,18.0,120.0,20.0]\n",
      "\n",
      "Algoritam kombo1, pokrenut 50 puta.\n",
      "Prosjecno vrijeme izvrsavanje je 1.4009768170399999s, a prosjecno rjesenje je 4014.2\n",
      "\n",
      "Algoritam kombo2, pokrenut 50 puta.\n",
      "Prosjecno vrijeme izvrsavanje je 1.4296130627400003s, a prosjecno rjesenje je 4014.2\n",
      "\n",
      "Algoritam kombo2_1, pokrenut 50 puta.\n",
      "Prosjecno vrijeme izvrsavanje je 0.61987990046s, a prosjecno rjesenje je 3829.9\n",
      "\n",
      "Algoritam kombo2_2, pokrenut 50 puta.\n",
      "Prosjecno vrijeme izvrsavanje je 1.3930646154999997s, a prosjecno rjesenje je 3954.1\n",
      "\n",
      "Algoritam kombo3_1, pokrenut 50 puta.\n",
      "Prosjecno vrijeme izvrsavanje je 0.6629460148399999s, a prosjecno rjesenje je 3885.8\n",
      "\n",
      "Algoritam kombo3_2, pokrenut 50 puta.\n",
      "Prosjecno vrijeme izvrsavanje je 1.4819331797799997s, a prosjecno rjesenje je 3997.0\n",
      "\n",
      "Algoritam kombo4, pokrenut 50 puta.\n",
      "Prosjecno vrijeme izvrsavanje je 2.92184655034s, a prosjecno rjesenje je 4015.0\n",
      "\n",
      "Algoritam kombo4_1, pokrenut 50 puta.\n",
      "Prosjecno vrijeme izvrsavanje je 2.91467102212s, a prosjecno rjesenje je 3936.6\n",
      "\n"
     ]
    }
   ],
   "source": [
    "println(\"n = $(par.n) broj objekata, dimenzije hromozoma\\n\"*\n",
    "\"m = $(par.m) broj dimenzija\\nrjesenje = $(par.rjesenje)\\n\")\n",
    "println(\"c = $c\")\n",
    "println(\"b = $b\")\n",
    "println(\"A = \")\n",
    "for a in A\n",
    "    println(a)\n",
    "end\n",
    "\n",
    "println()\n",
    "ispis([stKombo1,stKombo2,stKombo2_1,stKombo2_2,stKombo3_1,\n",
    "    stKombo3_2,stKombo4,stKombo4_1])"
   ]
  },
  {
   "cell_type": "markdown",
   "metadata": {},
   "source": [
    "# Zakljucak\n",
    "\n",
    "Kombinacije sa vise mutacije, tj sa vecom raznolikoscu, se bolje ponasaju. "
   ]
  },
  {
   "cell_type": "markdown",
   "metadata": {},
   "source": [
    "# Reference\n",
    "\n",
    "1. http://tracer.lcc.uma.es/problems/multi01knap/knap.htm\n",
    "1. http://www.cs.upc.edu/~mallba/public/library/TabuSearch/01mknp.1.html\n",
    "1. http://uk.mathworks.com/help/gads/how-the-genetic-algorithm-works.html\n",
    "1. http://www.mathworks.com/help/gads/some-genetic-algorithm-terminology.html\n",
    "1. David E. Goldberg Genetic Algorithms in Search, Optimization, and Machine Learning\n",
    "1. http://julialang.org/"
   ]
  }
 ],
 "metadata": {
  "kernelspec": {
   "display_name": "Julia 0.4.6",
   "language": "julia",
   "name": "julia-0.4"
  },
  "language_info": {
   "file_extension": ".jl",
   "mimetype": "application/julia",
   "name": "julia",
   "version": "0.4.6"
  }
 },
 "nbformat": 4,
 "nbformat_minor": 0
}
