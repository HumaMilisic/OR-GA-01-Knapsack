{
 "cells": [
  {
   "cell_type": "markdown",
   "metadata": {},
   "source": [
    "# Genetski algoritam za rješavanje višedimenzionalnog 0-1 problema ranca\n",
    "\n",
    "Genetski algoritam\n",
    "0-1 visedimenzionalni ranac"
   ]
  },
  {
   "cell_type": "code",
   "execution_count": 5,
   "metadata": {
    "collapsed": false
   },
   "outputs": [
    {
     "name": "stdout",
     "output_type": "stream",
     "text": [
      "(1,\" 15 10 4015\\r\\n\")\n",
      "(2,\" 100 220 90 400 300 400 205 120 160 580 400 140 100 1300 650\\r\\n\")\n",
      "(3,\" 8 24 13 80 70 80 45 15 28 90 130 32 20 120 40\\r\\n\")\n",
      "(4,\" 8 44 13 100 100 90 75 25 28 120 130 32 40 160 40\\r\\n\")\n",
      "(5,\" 3 6 4 20 20 30 8 3 12 14 40 6 3 20 5\\r\\n\")\n",
      "(6,\" 5 9 6 40 30 40 16 5 18 24 60 16 11 30 25\\r\\n\")\n",
      "(7,\" 5 11 7 50 40 40 19 7 18 29 70 21 17 30 25\\r\\n\")\n",
      "(8,\" 5 11 7 55 40 40 21 9 18 29 70 21 17 35 25\\r\\n\")\n",
      "(9,\" 0 0 1 10 4 10 0 6 0 6 32 3 0 70 10\\r\\n\")\n",
      "(10,\" 3 4 5 20 14 20 6 12 10 18 42 9 12 100 20\\r\\n\")\n",
      "(11,\" 3 6 9 30 29 20 12 12 10 30 42 18 18 110 20\\r\\n\")\n",
      "(12,\" 3 8 9 35 29 20 16 15 10 30 42 20 18 120 20\\r\\n\")\n",
      "(13,\" 550 700 130 240 280 310 110 205 260 275\\r\\n\")\n",
      "(14,\"\\n\")\n",
      "(15,\"\\n\")\n",
      "(16,\"\\n\")\n",
      "(17,\"2\\n\")\n",
      "(18,\"1500\\n\")\n",
      "(19,\"0\\n\")\n",
      "(20,\"0.0\\n\")\n",
      "(21,\"1\\n\")\n",
      "(22,\"2\\n\")\n",
      "(23,\"-1\\n\")\n",
      "(24,\"-1\\n\")\n",
      "(25,\"3\\n\")\n",
      "(26,\"10\\n\")\n",
      "(27,\"15\\n\")\n",
      "(28,\"10\\n\")\n",
      "(29,\"80\\n\")\n",
      "(30,\"0\\n\")\n"
     ]
    }
   ],
   "source": [
    "filein = open(\"input/knap15.in\")\n",
    "\n",
    "for i in enumerate(eachline(filein))\n",
    "    println(i)\n",
    "end\n",
    "\n",
    "close(filein)"
   ]
  },
  {
   "cell_type": "code",
   "execution_count": null,
   "metadata": {
    "collapsed": false
   },
   "outputs": [],
   "source": []
  },
  {
   "cell_type": "code",
   "execution_count": null,
   "metadata": {
    "collapsed": true
   },
   "outputs": [],
   "source": []
  }
 ],
 "metadata": {
  "kernelspec": {
   "display_name": "Julia 0.4.6",
   "language": "julia",
   "name": "julia-0.4"
  },
  "language_info": {
   "file_extension": ".jl",
   "mimetype": "application/julia",
   "name": "julia",
   "version": "0.4.6"
  }
 },
 "nbformat": 4,
 "nbformat_minor": 0
}
