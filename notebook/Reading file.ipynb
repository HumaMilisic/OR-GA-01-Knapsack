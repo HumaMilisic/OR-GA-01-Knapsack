{
 "cells": [
  {
   "cell_type": "code",
   "execution_count": 1,
   "metadata": {
    "collapsed": false
   },
   "outputs": [
    {
     "name": "stdout",
     "output_type": "stream",
     "text": [
      "C:\\Users\\Admin\\_notebooks\\OR\n"
     ]
    }
   ],
   "source": [
    "dir = pwd() #current directory\n",
    "println(dir)"
   ]
  },
  {
   "cell_type": "code",
   "execution_count": 2,
   "metadata": {
    "collapsed": false
   },
   "outputs": [
    {
     "data": {
      "text/plain": [
       "\"C:\\\\Users\\\\Admin\\\\_notebooks\\\\OR\\\\input\""
      ]
     },
     "execution_count": 2,
     "metadata": {},
     "output_type": "execute_result"
    }
   ],
   "source": [
    "cd(\"$dir\\\\input\")\n",
    "pwd()"
   ]
  },
  {
   "cell_type": "code",
   "execution_count": 3,
   "metadata": {
    "collapsed": false
   },
   "outputs": [
    {
     "data": {
      "text/plain": [
       "26-element Array{ByteString,1}:\n",
       " \"knap15.in\"     \n",
       " \"knap20.in\"     \n",
       " \"knap28.in\"     \n",
       " \"knap39.in\"     \n",
       " \"knap50.in\"     \n",
       " \"OR10x100-00.in\"\n",
       " \"OR10x100-29.in\"\n",
       " \"OR10x250-00.in\"\n",
       " \"OR10x250-29.in\"\n",
       " \"OR10x500-00.in\"\n",
       " \"OR10x500-29.in\"\n",
       " \"OR30x100-00.in\"\n",
       " \"OR30x100-29.in\"\n",
       " \"OR30x250-00.in\"\n",
       " \"OR30x250-29.in\"\n",
       " \"OR30x500-00.in\"\n",
       " \"OR30x500-29.in\"\n",
       " \"OR5x100-29.in\" \n",
       " \"OR5x250-00.in\" \n",
       " \"OR5x250-29.in\" \n",
       " \"OR5x500-00.in\" \n",
       " \"OR5x500-29.in\" \n",
       " \"sento1.in\"     \n",
       " \"sento2.in\"     \n",
       " \"weing7.in\"     \n",
       " \"weing8.in\"     "
      ]
     },
     "execution_count": 3,
     "metadata": {},
     "output_type": "execute_result"
    }
   ],
   "source": [
    "sadrzaj = readdir()"
   ]
  },
  {
   "cell_type": "code",
   "execution_count": 4,
   "metadata": {
    "collapsed": false
   },
   "outputs": [
    {
     "name": "stdout",
     "output_type": "stream",
     "text": [
      "StatStruct(mode=100666, size=598)\n",
      "StatStruct(mode=100666, size=765)\n",
      "StatStruct(mode=100666, size=1032)\n",
      "StatStruct(mode=100666, size=735)\n",
      "StatStruct(mode=100666, size=919)\n",
      "StatStruct(mode=100666, size=4943)\n",
      "StatStruct(mode=100666, size=4930)\n",
      "StatStruct(mode=100666, size=12094)\n",
      "StatStruct(mode=100666, size=12077)\n",
      "StatStruct(mode=100666, size=24001)\n",
      "StatStruct(mode=100666, size=24028)\n",
      "StatStruct(mode=100666, size=13784)\n",
      "StatStruct(mode=100666, size=13799)\n",
      "StatStruct(mode=100666, size=33791)\n",
      "StatStruct(mode=100666, size=33789)\n",
      "StatStruct(mode=100666, size=65167)\n",
      "StatStruct(mode=100666, size=65165)\n",
      "StatStruct(mode=100666, size=2715)\n",
      "StatStruct(mode=100666, size=6609)\n",
      "StatStruct(mode=100666, size=6642)\n",
      "StatStruct(mode=100666, size=13166)\n",
      "StatStruct(mode=100666, size=13145)\n",
      "StatStruct(mode=100666, size=11055)\n",
      "StatStruct(mode=100666, size=11054)\n",
      "StatStruct(mode=100666, size=2110)\n",
      "StatStruct(mode=100666, size=2112)\n"
     ]
    }
   ],
   "source": [
    "for path in sadrzaj\n",
    "    filein = open(path)\n",
    "    \n",
    "    println(stat(filein))\n",
    "    #operacijeee\n",
    "    \n",
    "    close(filein)\n",
    "end"
   ]
  },
  {
   "cell_type": "code",
   "execution_count": 5,
   "metadata": {
    "collapsed": false
   },
   "outputs": [
    {
     "ename": "LoadError",
     "evalue": "LoadError: UndefVarError: str not defined\nwhile loading In[5], in expression starting on line 14",
     "output_type": "error",
     "traceback": [
      "LoadError: UndefVarError: str not defined\nwhile loading In[5], in expression starting on line 14",
      ""
     ]
    }
   ],
   "source": [
    "filein = open(sadrzaj[1])\n",
    "#enumI = enumerate(eachline(filein))\n",
    "\n",
    "#for i in enumI\n",
    "#    println(i)\n",
    "#end\n",
    "\n",
    "#n,m,rjesenje = parse(Int,readuntil)\n",
    "\n",
    "#str =readstring(filein)\n",
    "\n",
    "close(filein)\n",
    "\n",
    "println(str)"
   ]
  },
  {
   "cell_type": "code",
   "execution_count": 6,
   "metadata": {
    "collapsed": false
   },
   "outputs": [
    {
     "data": {
      "text/plain": [
       "IOStream(<file knap15.in>)"
      ]
     },
     "execution_count": 6,
     "metadata": {},
     "output_type": "execute_result"
    }
   ],
   "source": [
    "f = open(sadrzaj[1])\n",
    "\n",
    "#s = readstring(f)"
   ]
  },
  {
   "cell_type": "code",
   "execution_count": 7,
   "metadata": {
    "collapsed": false
   },
   "outputs": [
    {
     "name": "stdout",
     "output_type": "stream",
     "text": [
      "15 10 4015\r\n",
      " 100 220 90 400 300 400 205 120 160 580 400 140 100 1300 650\r\n",
      " 8 24 13 80 70 80 45 15 28 90 130 32 20 120 40\r\n",
      " 8 44 13 100 100 90 75 25 28 120 130 32 40 160 40\r\n",
      " 3 6 4 20 20 30 8 3 12 14 40 6 3 20 5\r\n",
      " 5 9 6 40 30 40 16 5 18 24 60 16 11 30 25\r\n",
      " 5 11 7 50 40 40 19 7 18 29 70 21 17 30 25\r\n",
      " 5 11 7 55 40 40 21 9 18 29 70 21 17 35 25\r\n",
      " 0 0 1 10 4 10 0 6 0 6 32 3 0 70 10\r\n",
      " 3 4 5 20 14 20 6 12 10 18 42 9 12 100 20\r\n",
      " 3 6 9 30 29 20 12 12 10 30 42 18 18 110 20\r\n",
      " 3 8 9 35 29 20 16 15 10 30 42 20 18 120 20\r\n",
      " 550 700 130 240 280 310 110 205 260 275\r\n",
      "\n",
      "\n",
      "\n",
      "2\n",
      "1500\n",
      "0\n",
      "0.0\n",
      "1\n",
      "2\n",
      "-1\n",
      "-1\n",
      "3\n",
      "10\n",
      "15\n",
      "10\n",
      "80\n",
      "0\n"
     ]
    }
   ],
   "source": [
    "#readline\n",
    "filein = open(sadrzaj[1])\n",
    "\n",
    "n = 0; m = 0; rjesenje = 0;\n",
    "\n",
    "#temp = eachline(filein)\n",
    "puni = \"\"\n",
    "\n",
    "for line in eachline(filein)\n",
    "    puni = puni * line\n",
    "end\n",
    "\n",
    "\n",
    "puni = strip(puni)\n",
    "println(puni)\n",
    "close(filein)"
   ]
  },
  {
   "cell_type": "code",
   "execution_count": 8,
   "metadata": {
    "collapsed": false
   },
   "outputs": [
    {
     "name": "stderr",
     "output_type": "stream",
     "text": [
      "WARNING: split(x,y,k::Bool) is deprecated, use split(x,y; keep=k) instead.\n",
      " in depwarn at deprecated.jl:73\n",
      " in split at deprecated.jl:50\n",
      " in include_string at loading.jl:282\n",
      " in execute_request_0x535c5df2 at C:\\Users\\WorkIt\\.julia\\v0.4\\IJulia\\src\\execute_request.jl:183\n",
      " in eventloop at C:\\Users\\WorkIt\\.julia\\v0.4\\IJulia\\src\\IJulia.jl:143\n",
      " in anonymous at task.jl:447\n",
      "while loading In[8], in expression starting on line 1\n"
     ]
    },
    {
     "data": {
      "text/plain": [
       "4015"
      ]
     },
     "execution_count": 8,
     "metadata": {},
     "output_type": "execute_result"
    }
   ],
   "source": [
    "brojevi_str = split(puni,r\" |\\r|\\n\",false)\n",
    "n = parse(Int,brojevi_str[1])\n",
    "m = parse(Int,brojevi_str[2])\n",
    "rjesenje = parse(Int,brojevi_str[3])"
   ]
  },
  {
   "cell_type": "code",
   "execution_count": 9,
   "metadata": {
    "collapsed": false
   },
   "outputs": [
    {
     "name": "stdout",
     "output_type": "stream",
     "text": [
      "3\n",
      "4\n",
      "5\n",
      "6\n",
      "7\n",
      "8\n",
      "9\n",
      "10\n"
     ]
    },
    {
     "data": {
      "text/plain": [
       "15-element Array{Float64,1}:\n",
       "  100.0\n",
       "  220.0\n",
       "   90.0\n",
       "  400.0\n",
       "  300.0\n",
       "  400.0\n",
       "  205.0\n",
       "  120.0\n",
       "  160.0\n",
       "  580.0\n",
       "  400.0\n",
       "  140.0\n",
       "  100.0\n",
       " 1300.0\n",
       "  650.0"
      ]
     },
     "execution_count": 9,
     "metadata": {},
     "output_type": "execute_result"
    }
   ],
   "source": [
    "test = collect(1:1:10)\n",
    "for i in 3:10\n",
    "    println(i)\n",
    "end\n",
    "cA = brojevi_str[4:(3+n)]\n",
    "tempA = brojevi_str[4+n:(3+n+n*m)]\n",
    "bA = brojevi_str[4+n+n*m:(3+n+n*m+m)]\n",
    "b=[]\n",
    "c=[]\n",
    "for i in bA\n",
    "    ii = parse(Float64,i)\n",
    "    push!(b,ii)\n",
    "end\n",
    "for i in cA\n",
    "    ii = parse(Float64,i)\n",
    "    push!(c,ii)\n",
    "end\n",
    "b = map(Float64,b)\n",
    "c = map(Float64,c)"
   ]
  },
  {
   "cell_type": "code",
   "execution_count": 15,
   "metadata": {
    "collapsed": false
   },
   "outputs": [
    {
     "name": "stdout",
     "output_type": "stream",
     "text": [
      "Any[8.0,24.0,13.0,80.0,70.0,80.0,45.0,15.0,28.0,90.0]\n",
      "Any[130.0,32.0,20.0,120.0,40.0,8.0,44.0,13.0,100.0,100.0]\n",
      "Any[90.0,75.0,25.0,28.0,120.0,130.0,32.0,40.0,160.0,40.0]\n",
      "Any[3.0,6.0,4.0,20.0,20.0,30.0,8.0,3.0,12.0,14.0]\n",
      "Any[40.0,6.0,3.0,20.0,5.0,5.0,9.0,6.0,40.0,30.0]\n",
      "Any[40.0,16.0,5.0,18.0,24.0,60.0,16.0,11.0,30.0,25.0]\n",
      "Any[5.0,11.0,7.0,50.0,40.0,40.0,19.0,7.0,18.0,29.0]\n",
      "Any[70.0,21.0,17.0,30.0,25.0,5.0,11.0,7.0,55.0,40.0]\n",
      "Any[40.0,21.0,9.0,18.0,29.0,70.0,21.0,17.0,35.0,25.0]\n",
      "Any[0.0,0.0,1.0,10.0,4.0,10.0,0.0,6.0,0.0,6.0]\n",
      "Any[32.0,3.0,0.0,70.0,10.0,3.0,4.0,5.0,20.0,14.0]\n",
      "Any[20.0,6.0,12.0,10.0,18.0,42.0,9.0,12.0,100.0,20.0]\n",
      "Any[3.0,6.0,9.0,30.0,29.0,20.0,12.0,12.0,10.0,30.0]\n",
      "Any[42.0,18.0,18.0,110.0,20.0,3.0,8.0,9.0,35.0,29.0]\n",
      "Any[20.0,16.0,15.0,10.0,30.0,42.0,20.0,18.0,120.0,20.0]\n"
     ]
    }
   ],
   "source": [
    "#println(tempA)\n",
    "A = []\n",
    "for poc in 1:m:(m*n)\n",
    "    #println(poc)\n",
    "    tt = []\n",
    "    for i in 0:(m-1)\n",
    "        #print(tempA[poc+i]*\" \")\n",
    "        push!(tt,parse(Float64,tempA[poc+i]))\n",
    "    end\n",
    "    #println(\" \")\n",
    "    #tt = float(tt)\n",
    "    println(tt)\n",
    "    \n",
    "    push!(A,map(Float64,tt))\n",
    "end\n",
    "#println(A)"
   ]
  },
  {
   "cell_type": "code",
   "execution_count": 11,
   "metadata": {
    "collapsed": false
   },
   "outputs": [
    {
     "name": "stdout",
     "output_type": "stream",
     "text": [
      "n = 15, m = 10\n",
      "rjesenje = 4015\n",
      "c = [100.0,220.0,90.0,400.0,300.0,400.0,205.0,120.0,160.0,580.0,400.0,140.0,100.0,1300.0,650.0]\n",
      "b = [550.0,700.0,130.0,240.0,280.0,310.0,110.0,205.0,260.0,275.0]\n",
      "A = Any[[8.0,24.0,13.0,80.0,70.0,80.0,45.0,15.0,28.0,90.0],[130.0,32.0,20.0,120.0,40.0,8.0,44.0,13.0,100.0,100.0],[90.0,75.0,25.0,28.0,120.0,130.0,32.0,40.0,160.0,40.0],[3.0,6.0,4.0,20.0,20.0,30.0,8.0,3.0,12.0,14.0],[40.0,6.0,3.0,20.0,5.0,5.0,9.0,6.0,40.0,30.0],[40.0,16.0,5.0,18.0,24.0,60.0,16.0,11.0,30.0,25.0],[5.0,11.0,7.0,50.0,40.0,40.0,19.0,7.0,18.0,29.0],[70.0,21.0,17.0,30.0,25.0,5.0,11.0,7.0,55.0,40.0],[40.0,21.0,9.0,18.0,29.0,70.0,21.0,17.0,35.0,25.0],[0.0,0.0,1.0,10.0,4.0,10.0,0.0,6.0,0.0,6.0],[32.0,3.0,0.0,70.0,10.0,3.0,4.0,5.0,20.0,14.0],[20.0,6.0,12.0,10.0,18.0,42.0,9.0,12.0,100.0,20.0],[3.0,6.0,9.0,30.0,29.0,20.0,12.0,12.0,10.0,30.0],[42.0,18.0,18.0,110.0,20.0,3.0,8.0,9.0,35.0,29.0],[20.0,16.0,15.0,10.0,30.0,42.0,20.0,18.0,120.0,20.0]]"
     ]
    }
   ],
   "source": [
    "print(\"n = $(n), m = $(m)\\nrjesenje = $rjesenje\\nc = $c\\nb = $b\\nA = $A\")"
   ]
  },
  {
   "cell_type": "code",
   "execution_count": null,
   "metadata": {
    "collapsed": true
   },
   "outputs": [],
   "source": []
  }
 ],
 "metadata": {
  "kernelspec": {
   "display_name": "Julia 0.4.6",
   "language": "julia",
   "name": "julia-0.4"
  },
  "language_info": {
   "file_extension": ".jl",
   "mimetype": "application/julia",
   "name": "julia",
   "version": "0.4.6"
  }
 },
 "nbformat": 4,
 "nbformat_minor": 0
}
