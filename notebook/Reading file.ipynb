{
 "cells": [
  {
   "cell_type": "code",
   "execution_count": null,
   "metadata": {
    "collapsed": false
   },
   "outputs": [],
   "source": [
    "dir = pwd() #current directory\n",
    "println(dir)\n",
    "\n",
    "cd(\"$dir\\\\input\")\n",
    "pwd()\n",
    "\n",
    "sadrzaj = readdir()\n",
    "\n",
    "filein = open(sadrzaj[1])\n",
    "\n",
    "n = 0; m = 0; rjesenje = 0;\n",
    "\n",
    "puni = \"\"\n",
    "\n",
    "for line in eachline(filein)\n",
    "    puni = puni * line\n",
    "end\n",
    "\n",
    "puni = strip(puni)\n",
    "#println(puni)\n",
    "close(filein)\n",
    "\n",
    "brojevi_str = split(puni,r\" |\\r|\\n\",false)\n",
    "n = parse(Int,brojevi_str[1])\n",
    "m = parse(Int,brojevi_str[2])\n",
    "rjesenje = parse(Int,brojevi_str[3])\n",
    "\n",
    "test = collect(1:1:10)\n",
    "\n",
    "cA = brojevi_str[4:(3+n)]\n",
    "tempA = brojevi_str[4+n:(3+n+n*m)]\n",
    "bA = brojevi_str[4+n+n*m:(3+n+n*m+m)]\n",
    "b=[]\n",
    "c=[]\n",
    "for i in bA\n",
    "    ii = parse(Float64,i)\n",
    "    push!(b,ii)\n",
    "end\n",
    "for i in cA\n",
    "    ii = parse(Float64,i)\n",
    "    push!(c,ii)\n",
    "end\n",
    "b = map(Float64,b)\n",
    "c = map(Float64,c)\n",
    "\n",
    "#println(tempA)\n",
    "A = []\n",
    "for poc in 1:m:(m*n)\n",
    "    #println(poc)\n",
    "    tt = []\n",
    "    for i in 0:(m-1)\n",
    "        #print(tempA[poc+i]*\" \")\n",
    "        push!(tt,parse(Float64,tempA[poc+i]))\n",
    "    end\n",
    "    #println(\" \")\n",
    "    #tt = float(tt)\n",
    "    println(tt)\n",
    "    \n",
    "    push!(A,map(Float64,tt))\n",
    "end\n",
    "#println(A)\n",
    "\n",
    "print(\"n = $(n) broj objekata, dimenzije hromozoma\\nm = $(m) broj dimenzija\\nrjesenje = $rjesenje\\nc = $c\\nb = $b\\nA = $A\")"
   ]
  },
  {
   "cell_type": "code",
   "execution_count": null,
   "metadata": {
    "collapsed": false
   },
   "outputs": [],
   "source": [
    "t=[true,false,false,false]"
   ]
  },
  {
   "cell_type": "code",
   "execution_count": null,
   "metadata": {
    "collapsed": false
   },
   "outputs": [],
   "source": [
    "    function UInt(niz)\n",
    "        rez=Array(Float64,0)\n",
    "        for a in niz\n",
    "            push!(rez,Float64(a))\n",
    "        end\n",
    "        return rez;\n",
    "    end\n",
    "ii=0\n",
    "while ii<=100\n",
    "    hromozom = BitArray(n)\n",
    "    rand!(hromozom)\n",
    "    println(hromozom)\n",
    "    tt=UInt(hromozom)\n",
    "    fitnes = tt'*c\n",
    "    kazna = fitnes\n",
    "    A*tt'\n",
    "    A\n",
    "    for i in 1:m\n",
    "        sum =0.0;\n",
    "        for j in 1:n\n",
    "            sum+=(A[j][i]*tt[j])\n",
    "        end\n",
    "        if sum>b[i]\n",
    "            print(!)\n",
    "            fitnes-=kazna\n",
    "        end\n",
    "        #return fitnes\n",
    "    end\n",
    "    println(fitnes)\n",
    "    ii += 1\n",
    "end"
   ]
  },
  {
   "cell_type": "code",
   "execution_count": null,
   "metadata": {
    "collapsed": false
   },
   "outputs": [],
   "source": []
  },
  {
   "cell_type": "code",
   "execution_count": null,
   "metadata": {
    "collapsed": false
   },
   "outputs": [],
   "source": []
  },
  {
   "cell_type": "code",
   "execution_count": null,
   "metadata": {
    "collapsed": true
   },
   "outputs": [],
   "source": []
  }
 ],
 "metadata": {
  "kernelspec": {
   "display_name": "Julia 0.4.6",
   "language": "julia",
   "name": "julia-0.4"
  },
  "language_info": {
   "file_extension": ".jl",
   "mimetype": "application/julia",
   "name": "julia",
   "version": "0.4.6"
  }
 },
 "nbformat": 4,
 "nbformat_minor": 0
}
